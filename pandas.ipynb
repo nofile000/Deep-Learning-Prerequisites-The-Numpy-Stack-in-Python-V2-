{
 "cells": [
  {
   "cell_type": "code",
   "execution_count": 7,
   "id": "f31d6fdb",
   "metadata": {},
   "outputs": [],
   "source": [
    "import pandas as pd"
   ]
  },
  {
   "cell_type": "markdown",
   "id": "92856ad0",
   "metadata": {},
   "source": [
    "### Creating data frame"
   ]
  },
  {
   "cell_type": "code",
   "execution_count": 28,
   "id": "c2ed9ad3",
   "metadata": {},
   "outputs": [
    {
     "data": {
      "text/html": [
       "<div>\n",
       "<style scoped>\n",
       "    .dataframe tbody tr th:only-of-type {\n",
       "        vertical-align: middle;\n",
       "    }\n",
       "\n",
       "    .dataframe tbody tr th {\n",
       "        vertical-align: top;\n",
       "    }\n",
       "\n",
       "    .dataframe thead th {\n",
       "        text-align: right;\n",
       "    }\n",
       "</style>\n",
       "<table border=\"1\" class=\"dataframe\">\n",
       "  <thead>\n",
       "    <tr style=\"text-align: right;\">\n",
       "      <th></th>\n",
       "      <th>ashil</th>\n",
       "    </tr>\n",
       "  </thead>\n",
       "  <tbody>\n",
       "    <tr>\n",
       "      <th>lap1</th>\n",
       "      <td>1:20</td>\n",
       "    </tr>\n",
       "    <tr>\n",
       "      <th>lap2</th>\n",
       "      <td>1:15</td>\n",
       "    </tr>\n",
       "    <tr>\n",
       "      <th>lap3</th>\n",
       "      <td>1:30</td>\n",
       "    </tr>\n",
       "  </tbody>\n",
       "</table>\n",
       "</div>"
      ],
      "text/plain": [
       "     ashil\n",
       "lap1  1:20\n",
       "lap2  1:15\n",
       "lap3  1:30"
      ]
     },
     "execution_count": 28,
     "metadata": {},
     "output_type": "execute_result"
    }
   ],
   "source": [
    "df1 = pd.DataFrame(['1:20','1:15','1:30'],\n",
    "                    columns = ['ashil'],\n",
    "                    index = ['lap1','lap2','lap3'])\n",
    "df1"
   ]
  },
  {
   "cell_type": "code",
   "execution_count": 32,
   "id": "17a75273",
   "metadata": {},
   "outputs": [
    {
     "ename": "TypeError",
     "evalue": "set_index() missing 1 required positional argument: 'keys'",
     "output_type": "error",
     "traceback": [
      "\u001b[0;31m---------------------------------------------------------------------------\u001b[0m",
      "\u001b[0;31mTypeError\u001b[0m                                 Traceback (most recent call last)",
      "Input \u001b[0;32mIn [32]\u001b[0m, in \u001b[0;36m<cell line: 3>\u001b[0;34m()\u001b[0m\n\u001b[1;32m      1\u001b[0m person \u001b[38;5;241m=\u001b[39m {\u001b[38;5;124m'\u001b[39m\u001b[38;5;124mashil\u001b[39m\u001b[38;5;124m'\u001b[39m:[\u001b[38;5;241m1\u001b[39m,\u001b[38;5;241m2\u001b[39m,\u001b[38;5;241m3\u001b[39m]}\n\u001b[1;32m      2\u001b[0m df1 \u001b[38;5;241m=\u001b[39m pd\u001b[38;5;241m.\u001b[39mDataFrame(person)\n\u001b[0;32m----> 3\u001b[0m \u001b[43mdf1\u001b[49m\u001b[38;5;241;43m.\u001b[39;49m\u001b[43mset_index\u001b[49m\u001b[43m(\u001b[49m\u001b[43m)\u001b[49m\n",
      "File \u001b[0;32m~/.local/lib/python3.8/site-packages/pandas/util/_decorators.py:311\u001b[0m, in \u001b[0;36mdeprecate_nonkeyword_arguments.<locals>.decorate.<locals>.wrapper\u001b[0;34m(*args, **kwargs)\u001b[0m\n\u001b[1;32m    305\u001b[0m \u001b[38;5;28;01mif\u001b[39;00m \u001b[38;5;28mlen\u001b[39m(args) \u001b[38;5;241m>\u001b[39m num_allow_args:\n\u001b[1;32m    306\u001b[0m     warnings\u001b[38;5;241m.\u001b[39mwarn(\n\u001b[1;32m    307\u001b[0m         msg\u001b[38;5;241m.\u001b[39mformat(arguments\u001b[38;5;241m=\u001b[39marguments),\n\u001b[1;32m    308\u001b[0m         \u001b[38;5;167;01mFutureWarning\u001b[39;00m,\n\u001b[1;32m    309\u001b[0m         stacklevel\u001b[38;5;241m=\u001b[39mstacklevel,\n\u001b[1;32m    310\u001b[0m     )\n\u001b[0;32m--> 311\u001b[0m \u001b[38;5;28;01mreturn\u001b[39;00m \u001b[43mfunc\u001b[49m\u001b[43m(\u001b[49m\u001b[38;5;241;43m*\u001b[39;49m\u001b[43margs\u001b[49m\u001b[43m,\u001b[49m\u001b[43m \u001b[49m\u001b[38;5;241;43m*\u001b[39;49m\u001b[38;5;241;43m*\u001b[39;49m\u001b[43mkwargs\u001b[49m\u001b[43m)\u001b[49m\n",
      "\u001b[0;31mTypeError\u001b[0m: set_index() missing 1 required positional argument: 'keys'"
     ]
    }
   ],
   "source": [
    "person = {'ashil':[1,2,3]}\n",
    "df1 = pd.DataFrame(person)\n",
    "df1.set_index()"
   ]
  },
  {
   "cell_type": "code",
   "execution_count": 17,
   "id": "0142220e",
   "metadata": {},
   "outputs": [
    {
     "name": "stdout",
     "output_type": "stream",
     "text": [
      "<class 'pandas.core.frame.DataFrame'>\n",
      "RangeIndex: 21 entries, 0 to 20\n",
      "Data columns (total 15 columns):\n",
      " #   Column                  Non-Null Count  Dtype  \n",
      "---  ------                  --------------  -----  \n",
      " 0   Symbol                  21 non-null     object \n",
      " 1   Series                  21 non-null     object \n",
      " 2   Date                    21 non-null     object \n",
      " 3   Prev Close              21 non-null     float64\n",
      " 4   Open Price              21 non-null     float64\n",
      " 5   High Price              21 non-null     float64\n",
      " 6   Low Price               21 non-null     float64\n",
      " 7   Last Price              21 non-null     float64\n",
      " 8   Close Price             21 non-null     float64\n",
      " 9   Average Price           21 non-null     float64\n",
      " 10  Total Traded Quantity   21 non-null     int64  \n",
      " 11  Turnover                21 non-null     float64\n",
      " 12  No. of Trades           21 non-null     int64  \n",
      " 13  Deliverable Qty         21 non-null     int64  \n",
      " 14  % Dly Qt to Traded Qty  21 non-null     float64\n",
      "dtypes: float64(9), int64(3), object(3)\n",
      "memory usage: 2.6+ KB\n"
     ]
    },
    {
     "data": {
      "text/plain": [
       "(21, 15)"
      ]
     },
     "execution_count": 17,
     "metadata": {},
     "output_type": "execute_result"
    }
   ],
   "source": [
    "# reading csv\n",
    "df = pd.read_csv('/home/rahman/Deep Learning Prerequisites: The Numpy Stack in Python (V2+)/16-02-2022-TO-17-03-2022RELIANCEALLN.csv')\n",
    "# reading "
   ]
  },
  {
   "cell_type": "code",
   "execution_count": 16,
   "id": "0bfd2075",
   "metadata": {},
   "outputs": [
    {
     "name": "stdout",
     "output_type": "stream",
     "text": [
      "      Symbol Series         Date  Prev Close  Open Price  High Price  \\\n",
      "0   RELIANCE     EQ  16-Feb-2022     2417.95     2430.00     2433.00   \n",
      "1   RELIANCE     EQ  17-Feb-2022     2412.95     2420.10     2454.90   \n",
      "2   RELIANCE     EQ  18-Feb-2022     2443.50     2444.40     2456.40   \n",
      "3   RELIANCE     EQ  21-Feb-2022     2424.40     2412.00     2437.50   \n",
      "4   RELIANCE     EQ  22-Feb-2022     2399.90     2352.90     2395.90   \n",
      "..       ...    ...          ...         ...         ...         ...   \n",
      "16  RELIANCE     EQ  11-Mar-2022     2392.25     2376.05     2411.00   \n",
      "17  RELIANCE     EQ  14-Mar-2022     2399.15     2386.90     2424.40   \n",
      "18  RELIANCE     EQ  15-Mar-2022     2418.85     2427.95     2427.95   \n",
      "19  RELIANCE     EQ  16-Mar-2022     2363.45     2382.00     2407.90   \n",
      "20  RELIANCE     EQ  17-Mar-2022     2403.35     2432.75     2497.40   \n",
      "\n",
      "    Low Price  Last Price  Close Price  Average Price  Total Traded Quantity  \\\n",
      "0     2395.95     2407.65      2412.95        2417.77                4796294   \n",
      "1     2410.00     2441.00      2443.50        2439.61                5931774   \n",
      "2     2420.15     2427.30      2424.40        2440.25                3126873   \n",
      "3     2384.60     2399.60      2399.90        2409.12                5125968   \n",
      "4     2347.15     2389.75      2389.00        2372.16                6227901   \n",
      "..        ...         ...          ...            ...                    ...   \n",
      "16    2376.05     2393.15      2399.15        2396.11                5656799   \n",
      "17    2374.00     2422.20      2418.85        2401.52                3849222   \n",
      "18    2340.85     2362.00      2363.45        2386.09                7349740   \n",
      "19    2377.10     2401.50      2403.35        2396.17                5145644   \n",
      "20    2415.10     2487.50      2481.70        2456.66                9886295   \n",
      "\n",
      "        Turnover  No. of Trades  Deliverable Qty  % Dly Qt to Traded Qty  \n",
      "0   1.159633e+10         190438          2607957                   54.37  \n",
      "1   1.447121e+10         211881          2872619                   48.43  \n",
      "2   7.630367e+09         158691          1216161                   38.89  \n",
      "3   1.234908e+10         226214          2888548                   56.35  \n",
      "4   1.477358e+10         197401          3920789                   62.96  \n",
      "..           ...            ...              ...                     ...  \n",
      "16  1.355429e+10         199494          3028604                   53.54  \n",
      "17  9.243999e+09         160500          1800381                   46.77  \n",
      "18  1.753714e+10         257511          3924279                   53.39  \n",
      "19  1.232985e+10         185464          2824434                   54.89  \n",
      "20  2.428730e+10         274442          5961590                   60.30  \n",
      "\n",
      "[21 rows x 15 columns]\n"
     ]
    }
   ],
   "source": [
    "# to display all the columns and rows\n",
    "pd.set_option('display.max_columns',21)\n",
    "pd.set_option('display.max_rows',15)\n",
    "print(df)"
   ]
  },
  {
   "cell_type": "code",
   "execution_count": null,
   "id": "f741e7c7",
   "metadata": {},
   "outputs": [],
   "source": []
  }
 ],
 "metadata": {
  "kernelspec": {
   "display_name": "Python 3 (ipykernel)",
   "language": "python",
   "name": "python3"
  },
  "language_info": {
   "codemirror_mode": {
    "name": "ipython",
    "version": 3
   },
   "file_extension": ".py",
   "mimetype": "text/x-python",
   "name": "python",
   "nbconvert_exporter": "python",
   "pygments_lexer": "ipython3",
   "version": "3.8.10"
  }
 },
 "nbformat": 4,
 "nbformat_minor": 5
}
