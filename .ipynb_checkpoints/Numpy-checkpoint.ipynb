{
 "cells": [
  {
   "cell_type": "markdown",
   "id": "0860ef80",
   "metadata": {
    "slideshow": {
     "slide_type": "notes"
    }
   },
   "source": [
    "### Importing Essential Modules"
   ]
  },
  {
   "cell_type": "code",
   "execution_count": 2,
   "id": "a958d0a7",
   "metadata": {},
   "outputs": [],
   "source": [
    "import numpy as np\n",
    "from datetime import datetime as dt\n",
    "import random"
   ]
  },
  {
   "cell_type": "code",
   "execution_count": 34,
   "id": "1cb96560",
   "metadata": {},
   "outputs": [],
   "source": [
    "a = np.array([1,2,3])\n",
    "b = np.array([2,3,4])"
   ]
  },
  {
   "cell_type": "markdown",
   "id": "687afc45",
   "metadata": {},
   "source": [
    "### DOT"
   ]
  },
  {
   "cell_type": "code",
   "execution_count": 10,
   "id": "7fd38853",
   "metadata": {},
   "outputs": [
    {
     "data": {
      "text/plain": [
       "True"
      ]
     },
     "execution_count": 10,
     "metadata": {},
     "output_type": "execute_result"
    }
   ],
   "source": [
    "#checking different methods of dot operation\n",
    "\n",
    "Dot = 0\n",
    "for i in range(len(a)):\n",
    "    Dot += a[i]*b[i]\n",
    "\n",
    "Dot1 = 0\n",
    "for e,f in zip(a,b):\n",
    "    Dot1 += e*f\n",
    "    \n",
    "a @ b == a.dot(b) == np.dot(a,b) == sum(a*b) == np.sum(a*b) == (a*b).sum() == Dot ==Dot1\n"
   ]
  },
  {
   "cell_type": "markdown",
   "id": "513774cc",
   "metadata": {},
   "source": [
    "#### Alternative definition of the dot product,\n",
    "\n",
    "$ \\overrightarrow{ab} = |a||b| \\cos{\\theta}$\n",
    "\n",
    "$\\cos{\\theta} = \\frac{ab}{|a||b|}$\n",
    "\n",
    "where,\n",
    "   $ |a| = \\sqrt{\\sum_{d=1}^{D}a_{d}^2}$\n",
    "\n",
    "#### finding theta\n",
    "\n",
    "\n",
    "\n"
   ]
  },
  {
   "cell_type": "code",
   "execution_count": 16,
   "id": "891def4c",
   "metadata": {},
   "outputs": [
    {
     "name": "stdout",
     "output_type": "stream",
     "text": [
      "0.12186756768575456\n"
     ]
    }
   ],
   "source": [
    "amag = np.linalg.norm(a)\n",
    "bmag = np.linalg.norm(b)\n",
    "\n",
    "cosangle = a.dot(b)/(amag*bmag)\n",
    "angle = np.arccos(cosangle)\n",
    "print(angle)"
   ]
  },
  {
   "cell_type": "markdown",
   "id": "cfbb79f5",
   "metadata": {},
   "source": [
    "#### Speed Test"
   ]
  },
  {
   "cell_type": "code",
   "execution_count": 33,
   "id": "e91a6352",
   "metadata": {},
   "outputs": [
    {
     "name": "stdout",
     "output_type": "stream",
     "text": [
      "array : 0.084183 \n",
      "numpy_array : 0.010547\n"
     ]
    }
   ],
   "source": [
    "#numpy array vs List \n",
    "T = 10000\n",
    "def slow_dot_product(a,b):\n",
    "    result = 0\n",
    "    for e,f in zip(a,b):\n",
    "        result += a*b\n",
    "    return result\n",
    "\n",
    "t0 = dt.now()\n",
    "for i in range(T):\n",
    "    slow_dot_product(a,b)\n",
    "t1 = dt.now()\n",
    "dt1 = t1-t0\n",
    "\n",
    "t0 = dt.now()\n",
    "for i in range(T):\n",
    "    a.dot(b)\n",
    "t1 = dt.now()\n",
    "dt2 = t1-t0\n",
    "print(\"array :\",dt1.total_seconds(),\"\\nnumpy_array :\",dt2.total_seconds())\n",
    "\n"
   ]
  },
  {
   "cell_type": "markdown",
   "id": "087fe074",
   "metadata": {},
   "source": [
    "### MATRIX"
   ]
  },
  {
   "cell_type": "code",
   "execution_count": 5,
   "id": "dc7e3a64",
   "metadata": {},
   "outputs": [],
   "source": [
    "A = np.random.randint(0,10,size =(3,3))\n",
    "B = np.random.randint(0,10,size =(3,3))"
   ]
  },
  {
   "cell_type": "code",
   "execution_count": 52,
   "id": "12894673",
   "metadata": {},
   "outputs": [
    {
     "name": "stdout",
     "output_type": "stream",
     "text": [
      "5\n",
      "1 1\n",
      "3\n"
     ]
    },
    {
     "data": {
      "text/plain": [
       "array([4, 6, 0])"
      ]
     },
     "execution_count": 52,
     "metadata": {},
     "output_type": "execute_result"
    }
   ],
   "source": [
    "#accessing elements in list vs Matrix\n",
    "l = [[random.randint(0,10) for i in range(3)]for i in range(3)]\n",
    "print(l[1][2])\n",
    "print(A[1,2], A[1][2])\n",
    "print(B[2,2])\n",
    "#lets print all the elements of 1st column in the np matrix\n",
    "A[:,0]\n",
    "#l[:,0] will return error"
   ]
  },
  {
   "cell_type": "markdown",
   "id": "b86fd91e",
   "metadata": {},
   "source": [
    "#### Applying Some Math Operations "
   ]
  },
  {
   "cell_type": "code",
   "execution_count": 63,
   "id": "590d8573",
   "metadata": {},
   "outputs": [
    {
     "data": {
      "text/plain": [
       "array([[1, 0, 0],\n",
       "       [0, 2, 0],\n",
       "       [0, 0, 3]])"
      ]
     },
     "execution_count": 63,
     "metadata": {},
     "output_type": "execute_result"
    }
   ],
   "source": [
    "A @ B\n",
    "np.exp(A)\n",
    "np.dot(A,B)\n",
    "np.linalg.det(A)\n",
    "np.linalg.inv(A)\n",
    "np.linalg.eig(A)\n",
    "np.trace(A)\n",
    "np.diag(A)\n",
    "np.diag([1,2,3])\n"
   ]
  },
  {
   "cell_type": "markdown",
   "id": "8b20d63a",
   "metadata": {},
   "source": [
    "#### Igen decomposition\n",
    "Checking wheather eigen vector multiplied by eigen values is equal to eigen vector multiplied by matrix A ."
   ]
  },
  {
   "cell_type": "code",
   "execution_count": 75,
   "id": "fccaa001",
   "metadata": {},
   "outputs": [
    {
     "name": "stdout",
     "output_type": "stream",
     "text": [
      "(array([11.19956169, -2.26900051,  3.06943883]), array([[-0.67428646,  0.69638555, -0.17148896],\n",
      "       [-0.69350957, -0.62366305,  0.02279728],\n",
      "       [-0.25373658,  0.35509375,  0.98492224]]))\n",
      "[[False False  True]\n",
      " [False False False]\n",
      " [False False False]]\n"
     ]
    },
    {
     "data": {
      "text/plain": [
       "True"
      ]
     },
     "execution_count": 75,
     "metadata": {},
     "output_type": "execute_result"
    }
   ],
   "source": [
    "lamda,V = np.linalg.eig(A)\n",
    "print(np.linalg.eig(A))\n",
    "#print((V@np.diag(lamda) == A@V))\n",
    "#the correct way to compare wheather two arrays are equal is to use the numpy close function\n",
    "np.allclose(V@np.diag(lamda),A@V)"
   ]
  },
  {
   "cell_type": "markdown",
   "id": "e70e3a1c",
   "metadata": {},
   "source": [
    "#### Solving Linear Systems\n",
    "Q . The admission fee at a small fair is $1.50 for children and $4.00 for adults . On a certain day, 2200 people enter the fair and $5050 is collected . How many children and how many adults attended ?\n"
   ]
  },
  {
   "cell_type": "code",
   "execution_count": 126,
   "id": "58eb8a69",
   "metadata": {},
   "outputs": [
    {
     "name": "stdout",
     "output_type": "stream",
     "text": [
      "[1500.  700.]\n"
     ]
    }
   ],
   "source": [
    "# we can solve this by the equation AX = b\n",
    "# 2 equations\n",
    "# X1 + X2 = 2200\n",
    "# 1.5(X1) + 4(X2) = 5050\n",
    "A1 = np.array([[1,1],[1.5,4]])\n",
    "b = np.array([2200,5050])\n",
    "print(np.linalg.solve(A1,b))"
   ]
  },
  {
   "cell_type": "markdown",
   "id": "d64d6629",
   "metadata": {},
   "source": [
    "### Generating Data"
   ]
  },
  {
   "cell_type": "code",
   "execution_count": 96,
   "id": "1a5d68d9",
   "metadata": {},
   "outputs": [
    {
     "data": {
      "text/plain": [
       "array([[10., 10., 10.],\n",
       "       [10., 10., 10.],\n",
       "       [10., 10., 10.]])"
      ]
     },
     "execution_count": 96,
     "metadata": {},
     "output_type": "execute_result"
    }
   ],
   "source": [
    "# Creating an array of all zeros\n",
    "np.zeros((2,3))"
   ]
  },
  {
   "cell_type": "code",
   "execution_count": 97,
   "id": "a140a5ff",
   "metadata": {},
   "outputs": [
    {
     "data": {
      "text/plain": [
       "array([[1., 1., 1.],\n",
       "       [1., 1., 1.],\n",
       "       [1., 1., 1.]])"
      ]
     },
     "execution_count": 97,
     "metadata": {},
     "output_type": "execute_result"
    }
   ],
   "source": [
    "# Creating an array of all ones\n",
    "np.ones((3,3))"
   ]
  },
  {
   "cell_type": "code",
   "execution_count": 98,
   "id": "91974984",
   "metadata": {},
   "outputs": [
    {
     "data": {
      "text/plain": [
       "array([[10., 10., 10.],\n",
       "       [10., 10., 10.],\n",
       "       [10., 10., 10.]])"
      ]
     },
     "execution_count": 98,
     "metadata": {},
     "output_type": "execute_result"
    }
   ],
   "source": [
    "# Creating an array of 10's\n",
    "10 * np.ones((3,3))"
   ]
  },
  {
   "cell_type": "code",
   "execution_count": 91,
   "id": "db064e50",
   "metadata": {},
   "outputs": [
    {
     "data": {
      "text/plain": [
       "array([[1., 0.],\n",
       "       [0., 1.]])"
      ]
     },
     "execution_count": 91,
     "metadata": {},
     "output_type": "execute_result"
    }
   ],
   "source": [
    "# identity matrix\n",
    "np.eye(2)"
   ]
  },
  {
   "cell_type": "code",
   "execution_count": 92,
   "id": "72a5c621",
   "metadata": {},
   "outputs": [
    {
     "data": {
      "text/plain": [
       "0.5714416812554061"
      ]
     },
     "execution_count": 92,
     "metadata": {},
     "output_type": "execute_result"
    }
   ],
   "source": [
    "# Generating a random number\n",
    "np.random.random()\n"
   ]
  },
  {
   "cell_type": "code",
   "execution_count": 93,
   "id": "e0cbdba4",
   "metadata": {},
   "outputs": [
    {
     "data": {
      "text/plain": [
       "array([[0.80314319, 0.38024199, 0.78054004],\n",
       "       [0.14523675, 0.98714838, 0.20787698],\n",
       "       [0.40111094, 0.98476227, 0.09378445]])"
      ]
     },
     "execution_count": 93,
     "metadata": {},
     "output_type": "execute_result"
    }
   ],
   "source": [
    "# Generating a matrix with random numbers in uniform distribution\n",
    "np.random.random((3,3))"
   ]
  },
  {
   "cell_type": "code",
   "execution_count": 95,
   "id": "57077491",
   "metadata": {},
   "outputs": [
    {
     "data": {
      "text/plain": [
       "array([[ 0.22543834, -0.44214891,  1.34088409],\n",
       "       [ 1.78676587, -1.18925551, -1.19730524]])"
      ]
     },
     "execution_count": 95,
     "metadata": {},
     "output_type": "execute_result"
    }
   ],
   "source": [
    "# Generating a matrix with random numbers in normal distribution\n",
    "np.random.randn(2,3)"
   ]
  },
  {
   "cell_type": "code",
   "execution_count": 99,
   "id": "68fc4004",
   "metadata": {},
   "outputs": [
    {
     "data": {
      "text/plain": [
       "array([[3, 8, 1],\n",
       "       [3, 1, 4],\n",
       "       [3, 7, 8]])"
      ]
     },
     "execution_count": 99,
     "metadata": {},
     "output_type": "execute_result"
    }
   ],
   "source": [
    "# Geneating a matrix with random numbers in a range\n",
    "np.random.randint(1,10,size = (3,3))"
   ]
  },
  {
   "cell_type": "code",
   "execution_count": 100,
   "id": "a3659cf4",
   "metadata": {},
   "outputs": [
    {
     "data": {
      "text/plain": [
       "array([[6, 9, 1],\n",
       "       [7, 6, 7],\n",
       "       [5, 6, 8]])"
      ]
     },
     "execution_count": 100,
     "metadata": {},
     "output_type": "execute_result"
    }
   ],
   "source": [
    "# choice function randomly selects items from one dimention\n",
    "np.random.choice(10,size=(3,3))"
   ]
  },
  {
   "cell_type": "markdown",
   "id": "36bd1647",
   "metadata": {},
   "source": [
    "####  Calculating some statics"
   ]
  },
  {
   "cell_type": "code",
   "execution_count": 102,
   "id": "2a5e4a25",
   "metadata": {},
   "outputs": [
    {
     "data": {
      "text/plain": [
       "-0.006412210589783325"
      ]
     },
     "execution_count": 102,
     "metadata": {},
     "output_type": "execute_result"
    }
   ],
   "source": [
    "R = np.random.randn(10000)\n",
    "# calculating mean\n",
    "R.mean()"
   ]
  },
  {
   "cell_type": "code",
   "execution_count": 107,
   "id": "1b3905bc",
   "metadata": {},
   "outputs": [
    {
     "data": {
      "text/plain": [
       "-0.006412210589783325"
      ]
     },
     "execution_count": 107,
     "metadata": {},
     "output_type": "execute_result"
    }
   ],
   "source": [
    "# calculating mean of column\n",
    "R.mean(axis = 0)"
   ]
  },
  {
   "cell_type": "code",
   "execution_count": 103,
   "id": "7b478d21",
   "metadata": {},
   "outputs": [
    {
     "data": {
      "text/plain": [
       "0.9896036788453997"
      ]
     },
     "execution_count": 103,
     "metadata": {},
     "output_type": "execute_result"
    }
   ],
   "source": [
    "# calculating variance\n",
    "R.var()"
   ]
  },
  {
   "cell_type": "code",
   "execution_count": 104,
   "id": "62d4d4cd",
   "metadata": {},
   "outputs": [
    {
     "data": {
      "text/plain": [
       "0.99478825829691"
      ]
     },
     "execution_count": 104,
     "metadata": {},
     "output_type": "execute_result"
    }
   ],
   "source": [
    "# calculating standard deviation\n",
    "R.std()"
   ]
  },
  {
   "cell_type": "markdown",
   "id": "68ed66c4",
   "metadata": {},
   "source": [
    "#### Speed Test "
   ]
  },
  {
   "cell_type": "code",
   "execution_count": 14,
   "id": "11d0a624",
   "metadata": {},
   "outputs": [
    {
     "name": "stdout",
     "output_type": "stream",
     "text": [
      "0:00:00.027284 0:00:00.001421\n"
     ]
    }
   ],
   "source": [
    "# matrix multiplication vs matrix multiplication for lists\n",
    "T = 1000\n",
    "result = [[0 for i in range(len(A))]for j in range(len(B))]\n",
    "def slow_multiplication(A,B):\n",
    "    # iterate through rows of X\n",
    "    for i in range(len(A)):\n",
    "       # iterate through columns of Y\n",
    "       for j in range(len(B[0])):\n",
    "           # iterate through rows of Y\n",
    "           for k in range(len(B)):\n",
    "               result[i][j] += A[i][k] * B[k][j]\n",
    "t0 = dt.now()\n",
    "for i in range(T):\n",
    "    slow_multiplication(A,B)\n",
    "t1 = dt.now()\n",
    "dt1 = t1-t0\n",
    "\n",
    "t0 = dt.now()\n",
    "for i in range(T):\n",
    "    result1 = A@B\n",
    "t1 = dt.now()\n",
    "dt2 = t1-t0\n",
    "\n",
    "print(dt1 , dt2)"
   ]
  },
  {
   "cell_type": "code",
   "execution_count": 148,
   "id": "1cc8efd8",
   "metadata": {},
   "outputs": [
    {
     "name": "stdout",
     "output_type": "stream",
     "text": [
      "3\n"
     ]
    }
   ],
   "source": [
    "print(A)"
   ]
  },
  {
   "cell_type": "code",
   "execution_count": null,
   "id": "b25afcd5",
   "metadata": {},
   "outputs": [],
   "source": []
  }
 ],
 "metadata": {
  "kernelspec": {
   "display_name": "Python 3 (ipykernel)",
   "language": "python",
   "name": "python3"
  },
  "language_info": {
   "codemirror_mode": {
    "name": "ipython",
    "version": 3
   },
   "file_extension": ".py",
   "mimetype": "text/x-python",
   "name": "python",
   "nbconvert_exporter": "python",
   "pygments_lexer": "ipython3",
   "version": "3.8.10"
  }
 },
 "nbformat": 4,
 "nbformat_minor": 5
}
