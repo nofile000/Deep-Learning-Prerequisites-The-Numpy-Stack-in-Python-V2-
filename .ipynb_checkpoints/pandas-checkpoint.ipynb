{
 "cells": [
  {
   "cell_type": "code",
   "execution_count": 1,
   "id": "f31d6fdb",
   "metadata": {},
   "outputs": [],
   "source": [
    "import pandas as pd"
   ]
  },
  {
   "cell_type": "markdown",
   "id": "61333634",
   "metadata": {},
   "source": [
    "### Series"
   ]
  },
  {
   "cell_type": "code",
   "execution_count": 2,
   "id": "2199c180",
   "metadata": {},
   "outputs": [
    {
     "data": {
      "text/plain": [
       "lap1    1.23\n",
       "lap2    1.22\n",
       "lap3    1.55\n",
       "dtype: float64"
      ]
     },
     "execution_count": 2,
     "metadata": {},
     "output_type": "execute_result"
    }
   ],
   "source": [
    "pd.Series({'lap1':1.23,'lap2':1.22,'lap3':1.55})"
   ]
  },
  {
   "cell_type": "markdown",
   "id": "95b23d35",
   "metadata": {},
   "source": [
    "### DataFrame"
   ]
  },
  {
   "cell_type": "code",
   "execution_count": 3,
   "id": "5c73895e",
   "metadata": {},
   "outputs": [
    {
     "data": {
      "text/html": [
       "<div>\n",
       "<style scoped>\n",
       "    .dataframe tbody tr th:only-of-type {\n",
       "        vertical-align: middle;\n",
       "    }\n",
       "\n",
       "    .dataframe tbody tr th {\n",
       "        vertical-align: top;\n",
       "    }\n",
       "\n",
       "    .dataframe thead th {\n",
       "        text-align: right;\n",
       "    }\n",
       "</style>\n",
       "<table border=\"1\" class=\"dataframe\">\n",
       "  <thead>\n",
       "    <tr style=\"text-align: right;\">\n",
       "      <th></th>\n",
       "      <th>first</th>\n",
       "      <th>last</th>\n",
       "      <th>age</th>\n",
       "    </tr>\n",
       "  </thead>\n",
       "  <tbody>\n",
       "    <tr>\n",
       "      <th>0</th>\n",
       "      <td>ashi</td>\n",
       "      <td>taskani</td>\n",
       "      <td>21</td>\n",
       "    </tr>\n",
       "    <tr>\n",
       "      <th>1</th>\n",
       "      <td>aski</td>\n",
       "      <td>nuke</td>\n",
       "      <td>23</td>\n",
       "    </tr>\n",
       "    <tr>\n",
       "      <th>2</th>\n",
       "      <td>husky</td>\n",
       "      <td>swart</td>\n",
       "      <td>50</td>\n",
       "    </tr>\n",
       "    <tr>\n",
       "      <th>3</th>\n",
       "      <td>messi</td>\n",
       "      <td>lenon</td>\n",
       "      <td>45</td>\n",
       "    </tr>\n",
       "    <tr>\n",
       "      <th>4</th>\n",
       "      <td>pele</td>\n",
       "      <td>no</td>\n",
       "      <td>75</td>\n",
       "    </tr>\n",
       "    <tr>\n",
       "      <th>5</th>\n",
       "      <td>ronoldo</td>\n",
       "      <td>chri</td>\n",
       "      <td>47</td>\n",
       "    </tr>\n",
       "    <tr>\n",
       "      <th>6</th>\n",
       "      <td>kabib</td>\n",
       "      <td>nurmog</td>\n",
       "      <td>35</td>\n",
       "    </tr>\n",
       "  </tbody>\n",
       "</table>\n",
       "</div>"
      ],
      "text/plain": [
       "     first     last  age\n",
       "0     ashi  taskani   21\n",
       "1     aski     nuke   23\n",
       "2    husky    swart   50\n",
       "3    messi    lenon   45\n",
       "4     pele       no   75\n",
       "5  ronoldo     chri   47\n",
       "6    kabib   nurmog   35"
      ]
     },
     "execution_count": 3,
     "metadata": {},
     "output_type": "execute_result"
    }
   ],
   "source": [
    "df1 = pd.DataFrame({'first':['ashi','aski','husky','messi','pele','ronoldo','kabib'],\n",
    "                   'last':['taskani','nuke','swart','lenon','no','chri','nurmog'],\n",
    "                   'age':[21,23,50,45,75,47,35]})\n",
    "df1"
   ]
  },
  {
   "cell_type": "code",
   "execution_count": 110,
   "id": "0142220e",
   "metadata": {},
   "outputs": [
    {
     "name": "stdout",
     "output_type": "stream",
     "text": [
      "      Symbol Series         Date  Prev Close  Open Price  High Price  \\\n",
      "0   RELIANCE     EQ  16-Feb-2022     2417.95     2430.00     2433.00   \n",
      "1   RELIANCE     EQ  17-Feb-2022     2412.95     2420.10     2454.90   \n",
      "2   RELIANCE     EQ  18-Feb-2022     2443.50     2444.40     2456.40   \n",
      "3   RELIANCE     EQ  21-Feb-2022     2424.40     2412.00     2437.50   \n",
      "4   RELIANCE     EQ  22-Feb-2022     2399.90     2352.90     2395.90   \n",
      "..       ...    ...          ...         ...         ...         ...   \n",
      "16  RELIANCE     EQ  11-Mar-2022     2392.25     2376.05     2411.00   \n",
      "17  RELIANCE     EQ  14-Mar-2022     2399.15     2386.90     2424.40   \n",
      "18  RELIANCE     EQ  15-Mar-2022     2418.85     2427.95     2427.95   \n",
      "19  RELIANCE     EQ  16-Mar-2022     2363.45     2382.00     2407.90   \n",
      "20  RELIANCE     EQ  17-Mar-2022     2403.35     2432.75     2497.40   \n",
      "\n",
      "    Low Price  Last Price  Close Price  Average Price  Total Traded Quantity  \\\n",
      "0     2395.95     2407.65      2412.95        2417.77                4796294   \n",
      "1     2410.00     2441.00      2443.50        2439.61                5931774   \n",
      "2     2420.15     2427.30      2424.40        2440.25                3126873   \n",
      "3     2384.60     2399.60      2399.90        2409.12                5125968   \n",
      "4     2347.15     2389.75      2389.00        2372.16                6227901   \n",
      "..        ...         ...          ...            ...                    ...   \n",
      "16    2376.05     2393.15      2399.15        2396.11                5656799   \n",
      "17    2374.00     2422.20      2418.85        2401.52                3849222   \n",
      "18    2340.85     2362.00      2363.45        2386.09                7349740   \n",
      "19    2377.10     2401.50      2403.35        2396.17                5145644   \n",
      "20    2415.10     2487.50      2481.70        2456.66                9886295   \n",
      "\n",
      "        Turnover  No. of Trades  Deliverable Qty  % Dly Qt to Traded Qty  \n",
      "0   1.159633e+10         190438          2607957                   54.37  \n",
      "1   1.447121e+10         211881          2872619                   48.43  \n",
      "2   7.630367e+09         158691          1216161                   38.89  \n",
      "3   1.234908e+10         226214          2888548                   56.35  \n",
      "4   1.477358e+10         197401          3920789                   62.96  \n",
      "..           ...            ...              ...                     ...  \n",
      "16  1.355429e+10         199494          3028604                   53.54  \n",
      "17  9.243999e+09         160500          1800381                   46.77  \n",
      "18  1.753714e+10         257511          3924279                   53.39  \n",
      "19  1.232985e+10         185464          2824434                   54.89  \n",
      "20  2.428730e+10         274442          5961590                   60.30  \n",
      "\n",
      "[21 rows x 15 columns]\n"
     ]
    }
   ],
   "source": [
    "# reading csv\n",
    "df = pd.read_csv('C:\\\\Users\\\\rahma\\\\OneDrive\\\\Documents\\\\Deep-Learning-Prerequisites-The-Numpy-Stack-in-Python-V2-\\\\16-02-2022-TO-17-03-2022RELIANCEALLN.csv')\n",
    "print(df)"
   ]
  },
  {
   "cell_type": "code",
   "execution_count": 5,
   "id": "0bfd2075",
   "metadata": {},
   "outputs": [
    {
     "name": "stdout",
     "output_type": "stream",
     "text": [
      "      Symbol Series         Date  Prev Close  Open Price  High Price  \\\n",
      "0   RELIANCE     EQ  16-Feb-2022     2417.95     2430.00     2433.00   \n",
      "1   RELIANCE     EQ  17-Feb-2022     2412.95     2420.10     2454.90   \n",
      "2   RELIANCE     EQ  18-Feb-2022     2443.50     2444.40     2456.40   \n",
      "3   RELIANCE     EQ  21-Feb-2022     2424.40     2412.00     2437.50   \n",
      "4   RELIANCE     EQ  22-Feb-2022     2399.90     2352.90     2395.90   \n",
      "..       ...    ...          ...         ...         ...         ...   \n",
      "16  RELIANCE     EQ  11-Mar-2022     2392.25     2376.05     2411.00   \n",
      "17  RELIANCE     EQ  14-Mar-2022     2399.15     2386.90     2424.40   \n",
      "18  RELIANCE     EQ  15-Mar-2022     2418.85     2427.95     2427.95   \n",
      "19  RELIANCE     EQ  16-Mar-2022     2363.45     2382.00     2407.90   \n",
      "20  RELIANCE     EQ  17-Mar-2022     2403.35     2432.75     2497.40   \n",
      "\n",
      "    Low Price  Last Price  Close Price  Average Price  Total Traded Quantity  \\\n",
      "0     2395.95     2407.65      2412.95        2417.77                4796294   \n",
      "1     2410.00     2441.00      2443.50        2439.61                5931774   \n",
      "2     2420.15     2427.30      2424.40        2440.25                3126873   \n",
      "3     2384.60     2399.60      2399.90        2409.12                5125968   \n",
      "4     2347.15     2389.75      2389.00        2372.16                6227901   \n",
      "..        ...         ...          ...            ...                    ...   \n",
      "16    2376.05     2393.15      2399.15        2396.11                5656799   \n",
      "17    2374.00     2422.20      2418.85        2401.52                3849222   \n",
      "18    2340.85     2362.00      2363.45        2386.09                7349740   \n",
      "19    2377.10     2401.50      2403.35        2396.17                5145644   \n",
      "20    2415.10     2487.50      2481.70        2456.66                9886295   \n",
      "\n",
      "        Turnover  No. of Trades  Deliverable Qty  % Dly Qt to Traded Qty  \n",
      "0   1.159633e+10         190438          2607957                   54.37  \n",
      "1   1.447121e+10         211881          2872619                   48.43  \n",
      "2   7.630367e+09         158691          1216161                   38.89  \n",
      "3   1.234908e+10         226214          2888548                   56.35  \n",
      "4   1.477358e+10         197401          3920789                   62.96  \n",
      "..           ...            ...              ...                     ...  \n",
      "16  1.355429e+10         199494          3028604                   53.54  \n",
      "17  9.243999e+09         160500          1800381                   46.77  \n",
      "18  1.753714e+10         257511          3924279                   53.39  \n",
      "19  1.232985e+10         185464          2824434                   54.89  \n",
      "20  2.428730e+10         274442          5961590                   60.30  \n",
      "\n",
      "[21 rows x 15 columns]\n"
     ]
    }
   ],
   "source": [
    "# to display all the columns and rows\n",
    "pd.set_option('display.max_columns',21)\n",
    "pd.set_option('display.max_rows',15)\n",
    "print(df)"
   ]
  },
  {
   "cell_type": "code",
   "execution_count": 111,
   "id": "f741e7c7",
   "metadata": {},
   "outputs": [
    {
     "name": "stdout",
     "output_type": "stream",
     "text": [
      "     Symbol Series         Date  Prev Close  Open Price  High Price  \\\n",
      "0  RELIANCE     EQ  16-Feb-2022     2417.95      2430.0      2433.0   \n",
      "1  RELIANCE     EQ  17-Feb-2022     2412.95      2420.1      2454.9   \n",
      "2  RELIANCE     EQ  18-Feb-2022     2443.50      2444.4      2456.4   \n",
      "3  RELIANCE     EQ  21-Feb-2022     2424.40      2412.0      2437.5   \n",
      "4  RELIANCE     EQ  22-Feb-2022     2399.90      2352.9      2395.9   \n",
      "\n",
      "   Low Price  Last Price  Close Price  Average Price  Total Traded Quantity  \\\n",
      "0    2395.95     2407.65      2412.95        2417.77                4796294   \n",
      "1    2410.00     2441.00      2443.50        2439.61                5931774   \n",
      "2    2420.15     2427.30      2424.40        2440.25                3126873   \n",
      "3    2384.60     2399.60      2399.90        2409.12                5125968   \n",
      "4    2347.15     2389.75      2389.00        2372.16                6227901   \n",
      "\n",
      "       Turnover  No. of Trades  Deliverable Qty  % Dly Qt to Traded Qty  \n",
      "0  1.159633e+10         190438          2607957                   54.37  \n",
      "1  1.447121e+10         211881          2872619                   48.43  \n",
      "2  7.630367e+09         158691          1216161                   38.89  \n",
      "3  1.234908e+10         226214          2888548                   56.35  \n",
      "4  1.477358e+10         197401          3920789                   62.96  \n"
     ]
    }
   ],
   "source": [
    "# first 5 rows \n",
    "print(df.head())"
   ]
  },
  {
   "cell_type": "code",
   "execution_count": 112,
   "id": "2a12ad2e",
   "metadata": {},
   "outputs": [
    {
     "name": "stdout",
     "output_type": "stream",
     "text": [
      "     Symbol Series         Date  Prev Close  Open Price  High Price  \\\n",
      "0  RELIANCE     EQ  16-Feb-2022     2417.95      2430.0     2433.00   \n",
      "1  RELIANCE     EQ  17-Feb-2022     2412.95      2420.1     2454.90   \n",
      "2  RELIANCE     EQ  18-Feb-2022     2443.50      2444.4     2456.40   \n",
      "3  RELIANCE     EQ  21-Feb-2022     2424.40      2412.0     2437.50   \n",
      "4  RELIANCE     EQ  22-Feb-2022     2399.90      2352.9     2395.90   \n",
      "5  RELIANCE     EQ  23-Feb-2022     2389.00      2401.1     2406.55   \n",
      "6  RELIANCE     EQ  24-Feb-2022     2374.05      2305.0     2339.90   \n",
      "\n",
      "   Low Price  Last Price  Close Price  Average Price  Total Traded Quantity  \\\n",
      "0    2395.95     2407.65      2412.95        2417.77                4796294   \n",
      "1    2410.00     2441.00      2443.50        2439.61                5931774   \n",
      "2    2420.15     2427.30      2424.40        2440.25                3126873   \n",
      "3    2384.60     2399.60      2399.90        2409.12                5125968   \n",
      "4    2347.15     2389.75      2389.00        2372.16                6227901   \n",
      "5    2368.00     2371.25      2374.05        2391.23                3373615   \n",
      "6    2243.40     2250.00      2255.75        2291.15               11466725   \n",
      "\n",
      "       Turnover  No. of Trades  Deliverable Qty  % Dly Qt to Traded Qty  \n",
      "0  1.159633e+10         190438          2607957                   54.37  \n",
      "1  1.447121e+10         211881          2872619                   48.43  \n",
      "2  7.630367e+09         158691          1216161                   38.89  \n",
      "3  1.234908e+10         226214          2888548                   56.35  \n",
      "4  1.477358e+10         197401          3920789                   62.96  \n",
      "5  8.067102e+09         195350          1928054                   57.15  \n",
      "6  2.627201e+10         493459          7266877                   63.37  \n"
     ]
    }
   ],
   "source": [
    "# first 7 rows\n",
    "print(df.head(7))"
   ]
  },
  {
   "cell_type": "code",
   "execution_count": 113,
   "id": "3ec2833f",
   "metadata": {},
   "outputs": [
    {
     "name": "stdout",
     "output_type": "stream",
     "text": [
      "      Symbol Series         Date  Prev Close  Open Price  High Price  \\\n",
      "16  RELIANCE     EQ  11-Mar-2022     2392.25     2376.05     2411.00   \n",
      "17  RELIANCE     EQ  14-Mar-2022     2399.15     2386.90     2424.40   \n",
      "18  RELIANCE     EQ  15-Mar-2022     2418.85     2427.95     2427.95   \n",
      "19  RELIANCE     EQ  16-Mar-2022     2363.45     2382.00     2407.90   \n",
      "20  RELIANCE     EQ  17-Mar-2022     2403.35     2432.75     2497.40   \n",
      "\n",
      "    Low Price  Last Price  Close Price  Average Price  Total Traded Quantity  \\\n",
      "16    2376.05     2393.15      2399.15        2396.11                5656799   \n",
      "17    2374.00     2422.20      2418.85        2401.52                3849222   \n",
      "18    2340.85     2362.00      2363.45        2386.09                7349740   \n",
      "19    2377.10     2401.50      2403.35        2396.17                5145644   \n",
      "20    2415.10     2487.50      2481.70        2456.66                9886295   \n",
      "\n",
      "        Turnover  No. of Trades  Deliverable Qty  % Dly Qt to Traded Qty  \n",
      "16  1.355429e+10         199494          3028604                   53.54  \n",
      "17  9.243999e+09         160500          1800381                   46.77  \n",
      "18  1.753714e+10         257511          3924279                   53.39  \n",
      "19  1.232985e+10         185464          2824434                   54.89  \n",
      "20  2.428730e+10         274442          5961590                   60.30  \n"
     ]
    }
   ],
   "source": [
    "# last 5 rows\n",
    "print(df.tail())"
   ]
  },
  {
   "cell_type": "code",
   "execution_count": 17,
   "id": "aeacda05",
   "metadata": {},
   "outputs": [
    {
     "data": {
      "text/plain": [
       "0     2407.65\n",
       "1     2441.00\n",
       "2     2427.30\n",
       "3     2399.60\n",
       "4     2389.75\n",
       "       ...   \n",
       "16    2393.15\n",
       "17    2422.20\n",
       "18    2362.00\n",
       "19    2401.50\n",
       "20    2487.50\n",
       "Name: Last Price, Length: 21, dtype: float64"
      ]
     },
     "execution_count": 17,
     "metadata": {},
     "output_type": "execute_result"
    }
   ],
   "source": [
    "# accessing the column Last price\n",
    "df['Last Price']"
   ]
  },
  {
   "cell_type": "code",
   "execution_count": 114,
   "id": "5452f770",
   "metadata": {},
   "outputs": [
    {
     "name": "stdout",
     "output_type": "stream",
     "text": [
      "    Low Price  High Price\n",
      "0     2395.95     2433.00\n",
      "1     2410.00     2454.90\n",
      "2     2420.15     2456.40\n",
      "3     2384.60     2437.50\n",
      "4     2347.15     2395.90\n",
      "..        ...         ...\n",
      "16    2376.05     2411.00\n",
      "17    2374.00     2424.40\n",
      "18    2340.85     2427.95\n",
      "19    2377.10     2407.90\n",
      "20    2415.10     2497.40\n",
      "\n",
      "[21 rows x 2 columns]\n"
     ]
    }
   ],
   "source": [
    "# accessing the columns 'low price' and 'high price'\n",
    "print(df[['Low Price','High Price']])"
   ]
  },
  {
   "cell_type": "code",
   "execution_count": 23,
   "id": "ebb00561",
   "metadata": {},
   "outputs": [
    {
     "data": {
      "text/plain": [
       "Index(['Symbol', 'Series', 'Date', 'Prev Close', 'Open Price', 'High Price',\n",
       "       'Low Price', 'Last Price', 'Close Price', 'Average Price',\n",
       "       'Total Traded Quantity', 'Turnover', 'No. of Trades', 'Deliverable Qty',\n",
       "       '% Dly Qt to Traded Qty'],\n",
       "      dtype='object')"
      ]
     },
     "execution_count": 23,
     "metadata": {},
     "output_type": "execute_result"
    }
   ],
   "source": [
    "# all column names\n",
    "df.columns"
   ]
  },
  {
   "cell_type": "code",
   "execution_count": 24,
   "id": "14919771",
   "metadata": {},
   "outputs": [
    {
     "data": {
      "text/plain": [
       "Symbol                          RELIANCE\n",
       "Series                                EQ\n",
       "Date                         17-Feb-2022\n",
       "Prev Close                       2412.95\n",
       "Open Price                        2420.1\n",
       "High Price                        2454.9\n",
       "Low Price                         2410.0\n",
       "Last Price                        2441.0\n",
       "Close Price                       2443.5\n",
       "Average Price                    2439.61\n",
       "Total Traded Quantity            5931774\n",
       "Turnover                  14471212589.25\n",
       "No. of Trades                     211881\n",
       "Deliverable Qty                  2872619\n",
       "% Dly Qt to Traded Qty             48.43\n",
       "Name: 1, dtype: object"
      ]
     },
     "execution_count": 24,
     "metadata": {},
     "output_type": "execute_result"
    }
   ],
   "source": [
    "# accessing first column with number\n",
    "df.iloc[1]"
   ]
  },
  {
   "cell_type": "code",
   "execution_count": 115,
   "id": "4fe41495",
   "metadata": {},
   "outputs": [
    {
     "name": "stdout",
     "output_type": "stream",
     "text": [
      "     Symbol Series         Date  Prev Close  Open Price  High Price  \\\n",
      "1  RELIANCE     EQ  17-Feb-2022     2412.95      2420.1      2454.9   \n",
      "2  RELIANCE     EQ  18-Feb-2022     2443.50      2444.4      2456.4   \n",
      "\n",
      "   Low Price  Last Price  Close Price  Average Price  Total Traded Quantity  \\\n",
      "1    2410.00      2441.0       2443.5        2439.61                5931774   \n",
      "2    2420.15      2427.3       2424.4        2440.25                3126873   \n",
      "\n",
      "       Turnover  No. of Trades  Deliverable Qty  % Dly Qt to Traded Qty  \n",
      "1  1.447121e+10         211881          2872619                   48.43  \n",
      "2  7.630367e+09         158691          1216161                   38.89  \n"
     ]
    }
   ],
   "source": [
    "# accesing first 2 rows\n",
    "print(df.iloc[[1,2]])"
   ]
  },
  {
   "cell_type": "code",
   "execution_count": 116,
   "id": "af2a6fd1",
   "metadata": {},
   "outputs": [
    {
     "name": "stdout",
     "output_type": "stream",
     "text": [
      "           Date  Open Price\n",
      "0   16-Feb-2022     2430.00\n",
      "1   17-Feb-2022     2420.10\n",
      "2   18-Feb-2022     2444.40\n",
      "3   21-Feb-2022     2412.00\n",
      "4   22-Feb-2022     2352.90\n",
      "5   23-Feb-2022     2401.10\n",
      "6   24-Feb-2022     2305.00\n",
      "7   25-Feb-2022     2280.10\n",
      "8   28-Feb-2022     2243.00\n",
      "9   02-Mar-2022     2334.45\n",
      "10  03-Mar-2022     2400.00\n"
     ]
    }
   ],
   "source": [
    "# accessing columns with names\n",
    "# opening prices of reliance of 10 days\n",
    "# remember when slicing no brackets\n",
    "print(df.loc[0:10,['Date','Open Price']])"
   ]
  },
  {
   "cell_type": "code",
   "execution_count": 44,
   "id": "5f3bda30",
   "metadata": {},
   "outputs": [
    {
     "data": {
      "text/plain": [
       "0    2417.77\n",
       "1    2439.61\n",
       "Name: Average Price, dtype: float64"
      ]
     },
     "execution_count": 44,
     "metadata": {},
     "output_type": "execute_result"
    }
   ],
   "source": [
    "df.loc[[0,1],'Average Price']"
   ]
  },
  {
   "cell_type": "code",
   "execution_count": 117,
   "id": "dc68b0a5",
   "metadata": {},
   "outputs": [
    {
     "name": "stdout",
     "output_type": "stream",
     "text": [
      "          Date  Prev Close  Open Price  High Price  Low Price  Last Price  \\\n",
      "0  16-Feb-2022     2417.95      2430.0      2433.0    2395.95     2407.65   \n",
      "1  17-Feb-2022     2412.95      2420.1      2454.9    2410.00     2441.00   \n",
      "2  18-Feb-2022     2443.50      2444.4      2456.4    2420.15     2427.30   \n",
      "3  21-Feb-2022     2424.40      2412.0      2437.5    2384.60     2399.60   \n",
      "4  22-Feb-2022     2399.90      2352.9      2395.9    2347.15     2389.75   \n",
      "\n",
      "   Close Price  Average Price  \n",
      "0      2412.95        2417.77  \n",
      "1      2443.50        2439.61  \n",
      "2      2424.40        2440.25  \n",
      "3      2399.90        2409.12  \n",
      "4      2389.00        2372.16  \n"
     ]
    }
   ],
   "source": [
    "# obtaining five rows of columns from 'Date' to 'Aerage Price'\n",
    "print(df.loc[0:4,'Date':'Average Price'])"
   ]
  },
  {
   "cell_type": "markdown",
   "id": "21ee5211",
   "metadata": {},
   "source": [
    "### INDEXES"
   ]
  },
  {
   "cell_type": "code",
   "execution_count": 123,
   "id": "1fae0603",
   "metadata": {},
   "outputs": [],
   "source": [
    "# setting Date as INDEX\n",
    "df.set_index(\"Date\",inplace = True)\n",
    "# remember using inplace is to make the changes permenant"
   ]
  },
  {
   "cell_type": "code",
   "execution_count": 124,
   "id": "3b8ce6fa",
   "metadata": {
    "scrolled": false
   },
   "outputs": [
    {
     "name": "stdout",
     "output_type": "stream",
     "text": [
      "               Symbol Series  Prev Close  Open Price  High Price  Low Price  \\\n",
      "Date                                                                          \n",
      "16-Feb-2022  RELIANCE     EQ     2417.95     2430.00     2433.00    2395.95   \n",
      "17-Feb-2022  RELIANCE     EQ     2412.95     2420.10     2454.90    2410.00   \n",
      "18-Feb-2022  RELIANCE     EQ     2443.50     2444.40     2456.40    2420.15   \n",
      "21-Feb-2022  RELIANCE     EQ     2424.40     2412.00     2437.50    2384.60   \n",
      "22-Feb-2022  RELIANCE     EQ     2399.90     2352.90     2395.90    2347.15   \n",
      "...               ...    ...         ...         ...         ...        ...   \n",
      "11-Mar-2022  RELIANCE     EQ     2392.25     2376.05     2411.00    2376.05   \n",
      "14-Mar-2022  RELIANCE     EQ     2399.15     2386.90     2424.40    2374.00   \n",
      "15-Mar-2022  RELIANCE     EQ     2418.85     2427.95     2427.95    2340.85   \n",
      "16-Mar-2022  RELIANCE     EQ     2363.45     2382.00     2407.90    2377.10   \n",
      "17-Mar-2022  RELIANCE     EQ     2403.35     2432.75     2497.40    2415.10   \n",
      "\n",
      "             Last Price  Close Price  Average Price  Total Traded Quantity  \\\n",
      "Date                                                                         \n",
      "16-Feb-2022     2407.65      2412.95        2417.77                4796294   \n",
      "17-Feb-2022     2441.00      2443.50        2439.61                5931774   \n",
      "18-Feb-2022     2427.30      2424.40        2440.25                3126873   \n",
      "21-Feb-2022     2399.60      2399.90        2409.12                5125968   \n",
      "22-Feb-2022     2389.75      2389.00        2372.16                6227901   \n",
      "...                 ...          ...            ...                    ...   \n",
      "11-Mar-2022     2393.15      2399.15        2396.11                5656799   \n",
      "14-Mar-2022     2422.20      2418.85        2401.52                3849222   \n",
      "15-Mar-2022     2362.00      2363.45        2386.09                7349740   \n",
      "16-Mar-2022     2401.50      2403.35        2396.17                5145644   \n",
      "17-Mar-2022     2487.50      2481.70        2456.66                9886295   \n",
      "\n",
      "                 Turnover  No. of Trades  Deliverable Qty  \\\n",
      "Date                                                        \n",
      "16-Feb-2022  1.159633e+10         190438          2607957   \n",
      "17-Feb-2022  1.447121e+10         211881          2872619   \n",
      "18-Feb-2022  7.630367e+09         158691          1216161   \n",
      "21-Feb-2022  1.234908e+10         226214          2888548   \n",
      "22-Feb-2022  1.477358e+10         197401          3920789   \n",
      "...                   ...            ...              ...   \n",
      "11-Mar-2022  1.355429e+10         199494          3028604   \n",
      "14-Mar-2022  9.243999e+09         160500          1800381   \n",
      "15-Mar-2022  1.753714e+10         257511          3924279   \n",
      "16-Mar-2022  1.232985e+10         185464          2824434   \n",
      "17-Mar-2022  2.428730e+10         274442          5961590   \n",
      "\n",
      "             % Dly Qt to Traded Qty  \n",
      "Date                                 \n",
      "16-Feb-2022                   54.37  \n",
      "17-Feb-2022                   48.43  \n",
      "18-Feb-2022                   38.89  \n",
      "21-Feb-2022                   56.35  \n",
      "22-Feb-2022                   62.96  \n",
      "...                             ...  \n",
      "11-Mar-2022                   53.54  \n",
      "14-Mar-2022                   46.77  \n",
      "15-Mar-2022                   53.39  \n",
      "16-Mar-2022                   54.89  \n",
      "17-Mar-2022                   60.30  \n",
      "\n",
      "[21 rows x 14 columns]\n"
     ]
    }
   ],
   "source": [
    "print(df)"
   ]
  },
  {
   "cell_type": "code",
   "execution_count": 126,
   "id": "5255f234",
   "metadata": {},
   "outputs": [
    {
     "name": "stdout",
     "output_type": "stream",
     "text": [
      "               Symbol Series  Prev Close  Open Price  High Price  Low Price  \\\n",
      "Date                                                                          \n",
      "11-Mar-2022  RELIANCE     EQ     2392.25     2376.05      2411.0    2376.05   \n",
      "\n",
      "             Last Price  Close Price  Average Price  Total Traded Quantity  \\\n",
      "Date                                                                         \n",
      "11-Mar-2022     2393.15      2399.15        2396.11                5656799   \n",
      "\n",
      "                 Turnover  No. of Trades  Deliverable Qty  \\\n",
      "Date                                                        \n",
      "11-Mar-2022  1.355429e+10         199494          3028604   \n",
      "\n",
      "             % Dly Qt to Traded Qty  \n",
      "Date                                 \n",
      "11-Mar-2022                   53.54  \n"
     ]
    }
   ],
   "source": [
    "# obtianing values of date '11-Mar-2022'\n",
    "print(df.loc[['11-Mar-2022']])"
   ]
  },
  {
   "cell_type": "code",
   "execution_count": 127,
   "id": "bf081f02",
   "metadata": {},
   "outputs": [
    {
     "name": "stdout",
     "output_type": "stream",
     "text": [
      "           Date    Symbol Series  Prev Close  Open Price  High Price  \\\n",
      "0   16-Feb-2022  RELIANCE     EQ     2417.95     2430.00     2433.00   \n",
      "1   17-Feb-2022  RELIANCE     EQ     2412.95     2420.10     2454.90   \n",
      "2   18-Feb-2022  RELIANCE     EQ     2443.50     2444.40     2456.40   \n",
      "3   21-Feb-2022  RELIANCE     EQ     2424.40     2412.00     2437.50   \n",
      "4   22-Feb-2022  RELIANCE     EQ     2399.90     2352.90     2395.90   \n",
      "..          ...       ...    ...         ...         ...         ...   \n",
      "16  11-Mar-2022  RELIANCE     EQ     2392.25     2376.05     2411.00   \n",
      "17  14-Mar-2022  RELIANCE     EQ     2399.15     2386.90     2424.40   \n",
      "18  15-Mar-2022  RELIANCE     EQ     2418.85     2427.95     2427.95   \n",
      "19  16-Mar-2022  RELIANCE     EQ     2363.45     2382.00     2407.90   \n",
      "20  17-Mar-2022  RELIANCE     EQ     2403.35     2432.75     2497.40   \n",
      "\n",
      "    Low Price  Last Price  Close Price  Average Price  Total Traded Quantity  \\\n",
      "0     2395.95     2407.65      2412.95        2417.77                4796294   \n",
      "1     2410.00     2441.00      2443.50        2439.61                5931774   \n",
      "2     2420.15     2427.30      2424.40        2440.25                3126873   \n",
      "3     2384.60     2399.60      2399.90        2409.12                5125968   \n",
      "4     2347.15     2389.75      2389.00        2372.16                6227901   \n",
      "..        ...         ...          ...            ...                    ...   \n",
      "16    2376.05     2393.15      2399.15        2396.11                5656799   \n",
      "17    2374.00     2422.20      2418.85        2401.52                3849222   \n",
      "18    2340.85     2362.00      2363.45        2386.09                7349740   \n",
      "19    2377.10     2401.50      2403.35        2396.17                5145644   \n",
      "20    2415.10     2487.50      2481.70        2456.66                9886295   \n",
      "\n",
      "        Turnover  No. of Trades  Deliverable Qty  % Dly Qt to Traded Qty  \n",
      "0   1.159633e+10         190438          2607957                   54.37  \n",
      "1   1.447121e+10         211881          2872619                   48.43  \n",
      "2   7.630367e+09         158691          1216161                   38.89  \n",
      "3   1.234908e+10         226214          2888548                   56.35  \n",
      "4   1.477358e+10         197401          3920789                   62.96  \n",
      "..           ...            ...              ...                     ...  \n",
      "16  1.355429e+10         199494          3028604                   53.54  \n",
      "17  9.243999e+09         160500          1800381                   46.77  \n",
      "18  1.753714e+10         257511          3924279                   53.39  \n",
      "19  1.232985e+10         185464          2824434                   54.89  \n",
      "20  2.428730e+10         274442          5961590                   60.30  \n",
      "\n",
      "[21 rows x 15 columns]\n"
     ]
    }
   ],
   "source": [
    "# resetting it back to default\n",
    "df.reset_index(inplace = True)\n",
    "print(df)"
   ]
  },
  {
   "cell_type": "code",
   "execution_count": 94,
   "id": "795dc40e",
   "metadata": {},
   "outputs": [
    {
     "data": {
      "text/plain": [
       "RangeIndex(start=0, stop=21, step=1)"
      ]
     },
     "execution_count": 94,
     "metadata": {},
     "output_type": "execute_result"
    }
   ],
   "source": [
    "# list all index values\n",
    "df.index"
   ]
  },
  {
   "cell_type": "code",
   "execution_count": 134,
   "id": "5ea86872",
   "metadata": {},
   "outputs": [
    {
     "name": "stdout",
     "output_type": "stream",
     "text": [
      "               Symbol Series  Prev Close  Open Price  High Price  Low Price  \\\n",
      "Date                                                                          \n",
      "16-Feb-2022  RELIANCE     EQ     2417.95     2430.00     2433.00    2395.95   \n",
      "17-Feb-2022  RELIANCE     EQ     2412.95     2420.10     2454.90    2410.00   \n",
      "18-Feb-2022  RELIANCE     EQ     2443.50     2444.40     2456.40    2420.15   \n",
      "21-Feb-2022  RELIANCE     EQ     2424.40     2412.00     2437.50    2384.60   \n",
      "22-Feb-2022  RELIANCE     EQ     2399.90     2352.90     2395.90    2347.15   \n",
      "...               ...    ...         ...         ...         ...        ...   \n",
      "11-Mar-2022  RELIANCE     EQ     2392.25     2376.05     2411.00    2376.05   \n",
      "14-Mar-2022  RELIANCE     EQ     2399.15     2386.90     2424.40    2374.00   \n",
      "15-Mar-2022  RELIANCE     EQ     2418.85     2427.95     2427.95    2340.85   \n",
      "16-Mar-2022  RELIANCE     EQ     2363.45     2382.00     2407.90    2377.10   \n",
      "17-Mar-2022  RELIANCE     EQ     2403.35     2432.75     2497.40    2415.10   \n",
      "\n",
      "             Last Price  Close Price  Average Price  Total Traded Quantity  \\\n",
      "Date                                                                         \n",
      "16-Feb-2022     2407.65      2412.95        2417.77                4796294   \n",
      "17-Feb-2022     2441.00      2443.50        2439.61                5931774   \n",
      "18-Feb-2022     2427.30      2424.40        2440.25                3126873   \n",
      "21-Feb-2022     2399.60      2399.90        2409.12                5125968   \n",
      "22-Feb-2022     2389.75      2389.00        2372.16                6227901   \n",
      "...                 ...          ...            ...                    ...   \n",
      "11-Mar-2022     2393.15      2399.15        2396.11                5656799   \n",
      "14-Mar-2022     2422.20      2418.85        2401.52                3849222   \n",
      "15-Mar-2022     2362.00      2363.45        2386.09                7349740   \n",
      "16-Mar-2022     2401.50      2403.35        2396.17                5145644   \n",
      "17-Mar-2022     2487.50      2481.70        2456.66                9886295   \n",
      "\n",
      "                 Turnover  No. of Trades  Deliverable Qty  \\\n",
      "Date                                                        \n",
      "16-Feb-2022  1.159633e+10         190438          2607957   \n",
      "17-Feb-2022  1.447121e+10         211881          2872619   \n",
      "18-Feb-2022  7.630367e+09         158691          1216161   \n",
      "21-Feb-2022  1.234908e+10         226214          2888548   \n",
      "22-Feb-2022  1.477358e+10         197401          3920789   \n",
      "...                   ...            ...              ...   \n",
      "11-Mar-2022  1.355429e+10         199494          3028604   \n",
      "14-Mar-2022  9.243999e+09         160500          1800381   \n",
      "15-Mar-2022  1.753714e+10         257511          3924279   \n",
      "16-Mar-2022  1.232985e+10         185464          2824434   \n",
      "17-Mar-2022  2.428730e+10         274442          5961590   \n",
      "\n",
      "             % Dly Qt to Traded Qty  \n",
      "Date                                 \n",
      "16-Feb-2022                   54.37  \n",
      "17-Feb-2022                   48.43  \n",
      "18-Feb-2022                   38.89  \n",
      "21-Feb-2022                   56.35  \n",
      "22-Feb-2022                   62.96  \n",
      "...                             ...  \n",
      "11-Mar-2022                   53.54  \n",
      "14-Mar-2022                   46.77  \n",
      "15-Mar-2022                   53.39  \n",
      "16-Mar-2022                   54.89  \n",
      "17-Mar-2022                   60.30  \n",
      "\n",
      "[21 rows x 14 columns]\n"
     ]
    }
   ],
   "source": [
    "# we can also specify index column at csv file\n",
    "print(pd.read_csv('C:\\\\Users\\\\rahma\\\\OneDrive\\\\Documents\\\\Deep-Learning-Prerequisites-The-Numpy-Stack-in-Python-V2-\\\\16-02-2022-TO-17-03-2022RELIANCEALLN.csv',index_col = 'Date'))"
   ]
  },
  {
   "cell_type": "markdown",
   "id": "1c59af5e",
   "metadata": {},
   "source": [
    "### Filtering"
   ]
  },
  {
   "cell_type": "code",
   "execution_count": 139,
   "id": "3ccf7d43",
   "metadata": {},
   "outputs": [
    {
     "name": "stdout",
     "output_type": "stream",
     "text": [
      "0      True\n",
      "1     False\n",
      "2      True\n",
      "3      True\n",
      "4     False\n",
      "      ...  \n",
      "16    False\n",
      "17    False\n",
      "18     True\n",
      "19    False\n",
      "20    False\n",
      "Length: 21, dtype: bool\n"
     ]
    }
   ],
   "source": [
    "# get all the rows with opening price > closing price\n",
    "filt = df['Open Price']>df['Close Price']\n",
    "print(filt)"
   ]
  },
  {
   "cell_type": "code",
   "execution_count": 160,
   "id": "e8913588",
   "metadata": {},
   "outputs": [
    {
     "name": "stdout",
     "output_type": "stream",
     "text": [
      "0     16-Feb-2022\n",
      "2     18-Feb-2022\n",
      "3     21-Feb-2022\n",
      "5     23-Feb-2022\n",
      "6     24-Feb-2022\n",
      "10    03-Mar-2022\n",
      "11    04-Mar-2022\n",
      "12    07-Mar-2022\n",
      "15    10-Mar-2022\n",
      "18    15-Mar-2022\n",
      "Name: Date, dtype: object\n"
     ]
    }
   ],
   "source": [
    "# get all the date with open price > close price\n",
    "print(df[filt]['Date'])\n",
    "# print(df[filt].loc[:,'Date'])"
   ]
  },
  {
   "cell_type": "code",
   "execution_count": 167,
   "id": "b6f5eead",
   "metadata": {},
   "outputs": [
    {
     "name": "stdout",
     "output_type": "stream",
     "text": [
      "           Date    Symbol Series  Prev Close  Open Price  High Price  \\\n",
      "1   17-Feb-2022  RELIANCE     EQ     2412.95     2420.10     2454.90   \n",
      "7   25-Feb-2022  RELIANCE     EQ     2255.75     2280.10     2307.95   \n",
      "14  09-Mar-2022  RELIANCE     EQ     2235.50     2236.00     2367.00   \n",
      "19  16-Mar-2022  RELIANCE     EQ     2363.45     2382.00     2407.90   \n",
      "20  17-Mar-2022  RELIANCE     EQ     2403.35     2432.75     2497.40   \n",
      "\n",
      "    Low Price  Last Price  Close Price  Average Price  Total Traded Quantity  \\\n",
      "1     2410.00      2441.0      2443.50        2439.61                5931774   \n",
      "7     2276.25      2283.0      2283.95        2290.84                6724094   \n",
      "14    2234.15      2358.3      2354.10        2316.35                9421163   \n",
      "19    2377.10      2401.5      2403.35        2396.17                5145644   \n",
      "20    2415.10      2487.5      2481.70        2456.66                9886295   \n",
      "\n",
      "        Turnover  No. of Trades  Deliverable Qty  % Dly Qt to Traded Qty  \n",
      "1   1.447121e+10         211881          2872619                   48.43  \n",
      "7   1.540384e+10         281047          3670287                   54.58  \n",
      "14  2.182271e+10         325395          4647153                   49.33  \n",
      "19  1.232985e+10         185464          2824434                   54.89  \n",
      "20  2.428730e+10         274442          5961590                   60.30  \n"
     ]
    }
   ],
   "source": [
    "# get all the date with 'Prev Close' < 'Open Price' and 'Close Price' > 'Open Price'\n",
    "filt1 = (df['Prev Close']<df['Open Price']) & ( df['Close Price'] > df['Open Price'])\n",
    "print(df[filt1])"
   ]
  },
  {
   "cell_type": "code",
   "execution_count": 181,
   "id": "4e12aff3",
   "metadata": {},
   "outputs": [
    {
     "name": "stdout",
     "output_type": "stream",
     "text": [
      "           Date    Symbol Series  Prev Close  Open Price  High Price  \\\n",
      "0   16-Feb-2022  RELIANCE     EQ     2417.95     2430.00     2433.00   \n",
      "2   18-Feb-2022  RELIANCE     EQ     2443.50     2444.40     2456.40   \n",
      "3   21-Feb-2022  RELIANCE     EQ     2424.40     2412.00     2437.50   \n",
      "4   22-Feb-2022  RELIANCE     EQ     2399.90     2352.90     2395.90   \n",
      "5   23-Feb-2022  RELIANCE     EQ     2389.00     2401.10     2406.55   \n",
      "..          ...       ...    ...         ...         ...         ...   \n",
      "13  08-Mar-2022  RELIANCE     EQ     2239.55     2211.50     2246.00   \n",
      "15  10-Mar-2022  RELIANCE     EQ     2354.10     2400.00     2405.00   \n",
      "16  11-Mar-2022  RELIANCE     EQ     2392.25     2376.05     2411.00   \n",
      "17  14-Mar-2022  RELIANCE     EQ     2399.15     2386.90     2424.40   \n",
      "18  15-Mar-2022  RELIANCE     EQ     2418.85     2427.95     2427.95   \n",
      "\n",
      "    Low Price  Last Price  Close Price  Average Price  Total Traded Quantity  \\\n",
      "0     2395.95     2407.65      2412.95        2417.77                4796294   \n",
      "2     2420.15     2427.30      2424.40        2440.25                3126873   \n",
      "3     2384.60     2399.60      2399.90        2409.12                5125968   \n",
      "4     2347.15     2389.75      2389.00        2372.16                6227901   \n",
      "5     2368.00     2371.25      2374.05        2391.23                3373615   \n",
      "..        ...         ...          ...            ...                    ...   \n",
      "13    2180.00     2235.05      2235.50        2220.15                9825043   \n",
      "15    2360.00     2387.00      2392.25        2386.79                8297995   \n",
      "16    2376.05     2393.15      2399.15        2396.11                5656799   \n",
      "17    2374.00     2422.20      2418.85        2401.52                3849222   \n",
      "18    2340.85     2362.00      2363.45        2386.09                7349740   \n",
      "\n",
      "        Turnover  No. of Trades  Deliverable Qty  % Dly Qt to Traded Qty  \n",
      "0   1.159633e+10         190438          2607957                   54.37  \n",
      "2   7.630367e+09         158691          1216161                   38.89  \n",
      "3   1.234908e+10         226214          2888548                   56.35  \n",
      "4   1.477358e+10         197401          3920789                   62.96  \n",
      "5   8.067102e+09         195350          1928054                   57.15  \n",
      "..           ...            ...              ...                     ...  \n",
      "13  2.181302e+10         428117          5602260                   57.02  \n",
      "15  1.980560e+10         278083          4102149                   49.44  \n",
      "16  1.355429e+10         199494          3028604                   53.54  \n",
      "17  9.243999e+09         160500          1800381                   46.77  \n",
      "18  1.753714e+10         257511          3924279                   53.39  \n",
      "\n",
      "[16 rows x 15 columns]\n"
     ]
    }
   ],
   "source": [
    "# to get the direct opposit of this we can use ~\n",
    "print(df[~filt1])"
   ]
  },
  {
   "cell_type": "code",
   "execution_count": 180,
   "id": "f5582030",
   "metadata": {},
   "outputs": [
    {
     "name": "stdout",
     "output_type": "stream",
     "text": [
      "           Date    Symbol Series  Prev Close  Open Price  High Price  \\\n",
      "3   21-Feb-2022  RELIANCE     EQ     2424.40     2412.00     2437.50   \n",
      "13  08-Mar-2022  RELIANCE     EQ     2239.55     2211.50     2246.00   \n",
      "18  15-Mar-2022  RELIANCE     EQ     2418.85     2427.95     2427.95   \n",
      "\n",
      "    Low Price  Last Price  Close Price  Average Price  Total Traded Quantity  \\\n",
      "3     2384.60     2399.60      2399.90        2409.12                5125968   \n",
      "13    2180.00     2235.05      2235.50        2220.15                9825043   \n",
      "18    2340.85     2362.00      2363.45        2386.09                7349740   \n",
      "\n",
      "        Turnover  No. of Trades  Deliverable Qty  % Dly Qt to Traded Qty  \n",
      "3   1.234908e+10         226214          2888548                   56.35  \n",
      "13  2.181302e+10         428117          5602260                   57.02  \n",
      "18  1.753714e+10         257511          3924279                   53.39  \n"
     ]
    }
   ],
   "source": [
    "# get columns only if the 'Deliverable Qty in the list'\n",
    "DQL = [5602260 ,3924279 ,2888548 ]\n",
    "filt2 = df[\"Deliverable Qty\"].isin(DQL)\n",
    "print(df[filt2])"
   ]
  },
  {
   "cell_type": "code",
   "execution_count": 179,
   "id": "421631c0",
   "metadata": {
    "scrolled": false
   },
   "outputs": [
    {
     "name": "stdout",
     "output_type": "stream",
     "text": [
      "          Date    Symbol Series  Prev Close  Open Price  High Price  \\\n",
      "0  16-Feb-2022  RELIANCE     EQ     2417.95      2430.0     2433.00   \n",
      "1  17-Feb-2022  RELIANCE     EQ     2412.95      2420.1     2454.90   \n",
      "2  18-Feb-2022  RELIANCE     EQ     2443.50      2444.4     2456.40   \n",
      "3  21-Feb-2022  RELIANCE     EQ     2424.40      2412.0     2437.50   \n",
      "4  22-Feb-2022  RELIANCE     EQ     2399.90      2352.9     2395.90   \n",
      "5  23-Feb-2022  RELIANCE     EQ     2389.00      2401.1     2406.55   \n",
      "6  24-Feb-2022  RELIANCE     EQ     2374.05      2305.0     2339.90   \n",
      "7  25-Feb-2022  RELIANCE     EQ     2255.75      2280.1     2307.95   \n",
      "8  28-Feb-2022  RELIANCE     EQ     2283.95      2243.0     2367.35   \n",
      "\n",
      "   Low Price  Last Price  Close Price  Average Price  Total Traded Quantity  \\\n",
      "0    2395.95     2407.65      2412.95        2417.77                4796294   \n",
      "1    2410.00     2441.00      2443.50        2439.61                5931774   \n",
      "2    2420.15     2427.30      2424.40        2440.25                3126873   \n",
      "3    2384.60     2399.60      2399.90        2409.12                5125968   \n",
      "4    2347.15     2389.75      2389.00        2372.16                6227901   \n",
      "5    2368.00     2371.25      2374.05        2391.23                3373615   \n",
      "6    2243.40     2250.00      2255.75        2291.15               11466725   \n",
      "7    2276.25     2283.00      2283.95        2290.84                6724094   \n",
      "8    2243.00     2355.00      2359.55        2328.64                9828768   \n",
      "\n",
      "       Turnover  No. of Trades  Deliverable Qty  % Dly Qt to Traded Qty  \n",
      "0  1.159633e+10         190438          2607957                   54.37  \n",
      "1  1.447121e+10         211881          2872619                   48.43  \n",
      "2  7.630367e+09         158691          1216161                   38.89  \n",
      "3  1.234908e+10         226214          2888548                   56.35  \n",
      "4  1.477358e+10         197401          3920789                   62.96  \n",
      "5  8.067102e+09         195350          1928054                   57.15  \n",
      "6  2.627201e+10         493459          7266877                   63.37  \n",
      "7  1.540384e+10         281047          3670287                   54.58  \n",
      "8  2.288768e+10         240020          5321030                   54.14  \n"
     ]
    }
   ],
   "source": [
    "# take the row if date contains 'F'\n",
    "filt2 = df[\"Date\"].str.contains('F')\n",
    "print(df[filt2])"
   ]
  },
  {
   "cell_type": "markdown",
   "id": "f436a6dd",
   "metadata": {},
   "source": [
    " Remember if the values contains Nan while we applying $str.contains()$ method , it will return error. \n",
    " \n",
    " We can tackle this situation by $str.contains('python',na = False)$"
   ]
  },
  {
   "cell_type": "markdown",
   "id": "af9cbe4e",
   "metadata": {},
   "source": [
    "### Modifying Data Within DataFrames"
   ]
  },
  {
   "cell_type": "code",
   "execution_count": 183,
   "id": "1c74937c",
   "metadata": {},
   "outputs": [
    {
     "data": {
      "text/plain": [
       "Index(['Date', 'Symbol', 'Series', 'Prev Close', 'Open Price', 'High Price',\n",
       "       'Low Price', 'Last Price', 'Close Price', 'Average Price',\n",
       "       'Total Traded Quantity', 'Turnover', 'No. of Trades', 'Deliverable Qty',\n",
       "       '% Dly Qt to Traded Qty'],\n",
       "      dtype='object')"
      ]
     },
     "execution_count": 183,
     "metadata": {},
     "output_type": "execute_result"
    }
   ],
   "source": [
    "# get all the column names\n",
    "df.columns"
   ]
  },
  {
   "cell_type": "code",
   "execution_count": 189,
   "id": "35bcc519",
   "metadata": {},
   "outputs": [
    {
     "name": "stdout",
     "output_type": "stream",
     "text": [
      "          Dates  RELIANCE Series       PC       OP       HP       LP  \\\n",
      "0   16-Feb-2022  RELIANCE     EQ  2417.95  2430.00  2433.00  2395.95   \n",
      "1   17-Feb-2022  RELIANCE     EQ  2412.95  2420.10  2454.90  2410.00   \n",
      "2   18-Feb-2022  RELIANCE     EQ  2443.50  2444.40  2456.40  2420.15   \n",
      "3   21-Feb-2022  RELIANCE     EQ  2424.40  2412.00  2437.50  2384.60   \n",
      "4   22-Feb-2022  RELIANCE     EQ  2399.90  2352.90  2395.90  2347.15   \n",
      "..          ...       ...    ...      ...      ...      ...      ...   \n",
      "16  11-Mar-2022  RELIANCE     EQ  2392.25  2376.05  2411.00  2376.05   \n",
      "17  14-Mar-2022  RELIANCE     EQ  2399.15  2386.90  2424.40  2374.00   \n",
      "18  15-Mar-2022  RELIANCE     EQ  2418.85  2427.95  2427.95  2340.85   \n",
      "19  16-Mar-2022  RELIANCE     EQ  2363.45  2382.00  2407.90  2377.10   \n",
      "20  17-Mar-2022  RELIANCE     EQ  2403.35  2432.75  2497.40  2415.10   \n",
      "\n",
      "    Last Price       CP       AP      TTQ      Turnover  No. of Trades  \\\n",
      "0      2407.65  2412.95  2417.77  4796294  1.159633e+10         190438   \n",
      "1      2441.00  2443.50  2439.61  5931774  1.447121e+10         211881   \n",
      "2      2427.30  2424.40  2440.25  3126873  7.630367e+09         158691   \n",
      "3      2399.60  2399.90  2409.12  5125968  1.234908e+10         226214   \n",
      "4      2389.75  2389.00  2372.16  6227901  1.477358e+10         197401   \n",
      "..         ...      ...      ...      ...           ...            ...   \n",
      "16     2393.15  2399.15  2396.11  5656799  1.355429e+10         199494   \n",
      "17     2422.20  2418.85  2401.52  3849222  9.243999e+09         160500   \n",
      "18     2362.00  2363.45  2386.09  7349740  1.753714e+10         257511   \n",
      "19     2401.50  2403.35  2396.17  5145644  1.232985e+10         185464   \n",
      "20     2487.50  2481.70  2456.66  9886295  2.428730e+10         274442   \n",
      "\n",
      "         DQ  % Dly Qt to Traded Qty  \n",
      "0   2607957                   54.37  \n",
      "1   2872619                   48.43  \n",
      "2   1216161                   38.89  \n",
      "3   2888548                   56.35  \n",
      "4   3920789                   62.96  \n",
      "..      ...                     ...  \n",
      "16  3028604                   53.54  \n",
      "17  1800381                   46.77  \n",
      "18  3924279                   53.39  \n",
      "19  2824434                   54.89  \n",
      "20  5961590                   60.30  \n",
      "\n",
      "[21 rows x 15 columns]\n"
     ]
    }
   ],
   "source": [
    "# changing column names\n",
    "df.columns = ['Dates','RELIANCE', 'Series', 'PC', 'OP', 'HP',\n",
    "       'LP', 'Last Price', 'CP', 'AP',\n",
    "       'TTQ', 'Turnover', 'No. of Trades', 'DQ',\n",
    "       '% Dly Qt to Traded Qty']\n",
    "print(df)\n"
   ]
  },
  {
   "cell_type": "code",
   "execution_count": 206,
   "id": "36b1db04",
   "metadata": {},
   "outputs": [
    {
     "name": "stdout",
     "output_type": "stream",
     "text": [
      "          Dates  RELIANCE Series  Prev Close  Open Price  High Price  \\\n",
      "0   17-Feb-2022  RELIANCE     EQ     2412.95     2420.10     2454.90   \n",
      "1   17-Feb-2022  RELIANCE     EQ     2412.95     2420.10     2454.90   \n",
      "2   18-Feb-2022  RELIANCE     EQ     2443.50     2444.40     2456.40   \n",
      "3   21-Feb-2022  RELIANCE     EQ     2424.40     2412.00     2437.50   \n",
      "4   22-Feb-2022  RELIANCE     EQ     2399.90     2352.90     2395.90   \n",
      "..          ...       ...    ...         ...         ...         ...   \n",
      "16  11-Mar-2022  RELIANCE     EQ     2392.25     2376.05     2411.00   \n",
      "17  14-Mar-2022  RELIANCE     EQ     2399.15     2386.90     2424.40   \n",
      "18  15-Mar-2022  RELIANCE     EQ     2418.85     2427.95     2427.95   \n",
      "19  16-Mar-2022  RELIANCE     EQ     2363.45     2382.00     2407.90   \n",
      "20  17-Mar-2022  RELIANCE     EQ     2403.35     2432.75     2497.40   \n",
      "\n",
      "    Low Price  Last Price  Current Price  Average Price  \\\n",
      "0     2410.00     2441.00        2443.50        2439.61   \n",
      "1     2410.00     2441.00        2443.50        2439.61   \n",
      "2     2420.15     2427.30        2424.40        2440.25   \n",
      "3     2384.60     2399.60        2399.90        2409.12   \n",
      "4     2347.15     2389.75        2389.00        2372.16   \n",
      "..        ...         ...            ...            ...   \n",
      "16    2376.05     2393.15        2399.15        2396.11   \n",
      "17    2374.00     2422.20        2418.85        2401.52   \n",
      "18    2340.85     2362.00        2363.45        2386.09   \n",
      "19    2377.10     2401.50        2403.35        2396.17   \n",
      "20    2415.10     2487.50        2481.70        2456.66   \n",
      "\n",
      "    Total Traded Quantity      Turnover  No. of Trades       DQ  \\\n",
      "0                 5931774  1.447121e+10         211881  2872619   \n",
      "1                 5931774  1.447121e+10         211881  2872619   \n",
      "2                 3126873  7.630367e+09         158691  1216161   \n",
      "3                 5125968  1.234908e+10         226214  2888548   \n",
      "4                 6227901  1.477358e+10         197401  3920789   \n",
      "..                    ...           ...            ...      ...   \n",
      "16                5656799  1.355429e+10         199494  3028604   \n",
      "17                3849222  9.243999e+09         160500  1800381   \n",
      "18                7349740  1.753714e+10         257511  3924279   \n",
      "19                5145644  1.232985e+10         185464  2824434   \n",
      "20                9886295  2.428730e+10         274442  5961590   \n",
      "\n",
      "    % Dly Qt to Traded Qty  \n",
      "0                    48.43  \n",
      "1                    48.43  \n",
      "2                    38.89  \n",
      "3                    56.35  \n",
      "4                    62.96  \n",
      "..                     ...  \n",
      "16                   53.54  \n",
      "17                   46.77  \n",
      "18                   53.39  \n",
      "19                   54.89  \n",
      "20                   60.30  \n",
      "\n",
      "[21 rows x 15 columns]\n"
     ]
    }
   ],
   "source": [
    "# another way to change column names\n",
    "# here we can change specific columns\n",
    "print(df.rename(columns={'PC':'Prev Close','OP':'Open Price','HP':'High Price','LP':'Low Price','CP':'Current Price','AP':'Average Price','TTQ':'Total Traded Quantity'}))"
   ]
  },
  {
   "cell_type": "code",
   "execution_count": 207,
   "id": "fe22d718",
   "metadata": {},
   "outputs": [
    {
     "name": "stdout",
     "output_type": "stream",
     "text": [
      "          Dates  RELIANCE Series       PC       OP       HP       LP  \\\n",
      "0   17-Feb-2022  RELIANCE     EQ  2412.95  2420.10  2454.90  2410.00   \n",
      "1   17-Feb-2022  RELIANCE     EQ  2412.95  2420.10  2454.90  2410.00   \n",
      "2   18-Feb-2022  RELIANCE     EQ  2443.50  2444.40  2456.40  2420.15   \n",
      "3   21-Feb-2022  RELIANCE     EQ  2424.40  2412.00  2437.50  2384.60   \n",
      "4   22-Feb-2022  RELIANCE     EQ  2399.90  2352.90  2395.90  2347.15   \n",
      "..          ...       ...    ...      ...      ...      ...      ...   \n",
      "16  11-Mar-2022  RELIANCE     EQ  2392.25  2376.05  2411.00  2376.05   \n",
      "17  14-Mar-2022  RELIANCE     EQ  2399.15  2386.90  2424.40  2374.00   \n",
      "18  15-Mar-2022  RELIANCE     EQ  2418.85  2427.95  2427.95  2340.85   \n",
      "19  16-Mar-2022  RELIANCE     EQ  2363.45  2382.00  2407.90  2377.10   \n",
      "20  17-Mar-2022  RELIANCE     EQ  2403.35  2432.75  2497.40  2415.10   \n",
      "\n",
      "    Last Price       CP       AP      TTQ      Turnover  No. of Trades  \\\n",
      "0      2441.00  2443.50  2439.61  5931774  1.447121e+10         211881   \n",
      "1      2441.00  2443.50  2439.61  5931774  1.447121e+10         211881   \n",
      "2      2427.30  2424.40  2440.25  3126873  7.630367e+09         158691   \n",
      "3      2399.60  2399.90  2409.12  5125968  1.234908e+10         226214   \n",
      "4      2389.75  2389.00  2372.16  6227901  1.477358e+10         197401   \n",
      "..         ...      ...      ...      ...           ...            ...   \n",
      "16     2393.15  2399.15  2396.11  5656799  1.355429e+10         199494   \n",
      "17     2422.20  2418.85  2401.52  3849222  9.243999e+09         160500   \n",
      "18     2362.00  2363.45  2386.09  7349740  1.753714e+10         257511   \n",
      "19     2401.50  2403.35  2396.17  5145644  1.232985e+10         185464   \n",
      "20     2487.50  2481.70  2456.66  9886295  2.428730e+10         274442   \n",
      "\n",
      "         DQ  % Dly Qt to Traded Qty  \n",
      "0   2872619                   48.43  \n",
      "1   2872619                   48.43  \n",
      "2   1216161                   38.89  \n",
      "3   2888548                   56.35  \n",
      "4   3920789                   62.96  \n",
      "..      ...                     ...  \n",
      "16  3028604                   53.54  \n",
      "17  1800381                   46.77  \n",
      "18  3924279                   53.39  \n",
      "19  2824434                   54.89  \n",
      "20  5961590                   60.30  \n",
      "\n",
      "[21 rows x 15 columns]\n"
     ]
    }
   ],
   "source": [
    "# changing the 1st row\n",
    "df.loc[0] = df.loc[1]\n",
    "# we can also give a complete list of values \n",
    "print(df)"
   ]
  },
  {
   "cell_type": "code",
   "execution_count": 218,
   "id": "47f5a14e",
   "metadata": {},
   "outputs": [
    {
     "name": "stdout",
     "output_type": "stream",
     "text": [
      "                Dates  RELIANCE Series       PC       OP       HP       LP  \\\n",
      "0         17-Feb-2022  RELIANCE     EQ  2412.95  2420.10  2454.90  2410.00   \n",
      "1         17-Feb-2022      Tata     EQ  2412.95  2420.10  2454.90  2410.00   \n",
      "2         18-Feb-2022  RELIANCE     EQ  2443.50  2444.40  2456.40  2420.15   \n",
      "3         21-Feb-2022  RELIANCE     EQ  2424.40  2412.00  2437.50  2384.60   \n",
      "4         22-Feb-2022  RELIANCE     EQ  2399.90  2352.90  2395.90  2347.15   \n",
      "...               ...       ...    ...      ...      ...      ...      ...   \n",
      "17        14-Mar-2022  RELIANCE     EQ  2399.15  2386.90  2424.40  2374.00   \n",
      "18        15-Mar-2022  RELIANCE     EQ  2418.85  2427.95  2427.95  2340.85   \n",
      "19        16-Mar-2022  RELIANCE     EQ  2363.45  2382.00  2407.90  2377.10   \n",
      "20        17-Mar-2022  RELIANCE     EQ  2403.35  2432.75  2497.40  2415.10   \n",
      "RELIANCE          NaN       NaN    NaN      NaN      NaN      NaN      NaN   \n",
      "\n",
      "          Last Price       CP       AP        TTQ      Turnover  \\\n",
      "0            2441.00  2443.50  2439.61  5931774.0  1.447121e+10   \n",
      "1            2441.00  2443.50  2439.61  5931774.0  1.447121e+10   \n",
      "2            2427.30  2424.40  2440.25  3126873.0  7.630367e+09   \n",
      "3            2399.60  2399.90  2409.12  5125968.0  1.234908e+10   \n",
      "4            2389.75  2389.00  2372.16  6227901.0  1.477358e+10   \n",
      "...              ...      ...      ...        ...           ...   \n",
      "17           2422.20  2418.85  2401.52  3849222.0  9.243999e+09   \n",
      "18           2362.00  2363.45  2386.09  7349740.0  1.753714e+10   \n",
      "19           2401.50  2403.35  2396.17  5145644.0  1.232985e+10   \n",
      "20           2487.50  2481.70  2456.66  9886295.0  2.428730e+10   \n",
      "RELIANCE         NaN      NaN      NaN        NaN           NaN   \n",
      "\n",
      "          No. of Trades         DQ  % Dly Qt to Traded Qty     1 (RELIANCE, 1)  \n",
      "0              211881.0  2872619.0                   48.43   NaN          Tata  \n",
      "1              211881.0  2872619.0                   48.43   NaN          Tata  \n",
      "2              158691.0  1216161.0                   38.89   NaN          Tata  \n",
      "3              226214.0  2888548.0                   56.35   NaN          Tata  \n",
      "4              197401.0  3920789.0                   62.96   NaN          Tata  \n",
      "...                 ...        ...                     ...   ...           ...  \n",
      "17             160500.0  1800381.0                   46.77   NaN          Tata  \n",
      "18             257511.0  3924279.0                   53.39   NaN          Tata  \n",
      "19             185464.0  2824434.0                   54.89   NaN          Tata  \n",
      "20             274442.0  5961590.0                   60.30   NaN          Tata  \n",
      "RELIANCE            NaN        NaN                     NaN  Tata          Tata  \n",
      "\n",
      "[22 rows x 17 columns]\n"
     ]
    }
   ],
   "source": [
    "df.loc[[1],'RELIANCE'] = 'Tata'\n",
    "print(df)"
   ]
  },
  {
   "cell_type": "code",
   "execution_count": 222,
   "id": "591d156c",
   "metadata": {},
   "outputs": [
    {
     "name": "stderr",
     "output_type": "stream",
     "text": [
      "C:\\Users\\rahma\\AppData\\Local\\Temp/ipykernel_5660/1512280573.py:2: SettingWithCopyWarning: \n",
      "A value is trying to be set on a copy of a slice from a DataFrame\n",
      "\n",
      "See the caveats in the documentation: https://pandas.pydata.org/pandas-docs/stable/user_guide/indexing.html#returning-a-view-versus-a-copy\n",
      "  df[1]['RELIANCE'] = 'RELIANCE'\n"
     ]
    }
   ],
   "source": [
    "# we cannot assign values like this\n",
    "df[1]['RELIANCE'] = 'RELIANCE'"
   ]
  },
  {
   "cell_type": "code",
   "execution_count": 226,
   "id": "11176bb0",
   "metadata": {},
   "outputs": [
    {
     "data": {
      "text/plain": [
       "0           reliance\n",
       "1               tata\n",
       "2           reliance\n",
       "3           reliance\n",
       "4           reliance\n",
       "              ...   \n",
       "17          reliance\n",
       "18          reliance\n",
       "19          reliance\n",
       "20          reliance\n",
       "RELIANCE         NaN\n",
       "Name: RELIANCE, Length: 22, dtype: object"
      ]
     },
     "execution_count": 226,
     "metadata": {},
     "output_type": "execute_result"
    }
   ],
   "source": [
    "# lets lowercase the column 'RELIANCE'\n",
    "df['RELIANCE'].str.lower()"
   ]
  },
  {
   "cell_type": "code",
   "execution_count": 231,
   "id": "6e303ac8",
   "metadata": {},
   "outputs": [
    {
     "data": {
      "text/plain": [
       "0           RELIANCE\n",
       "1               TATA\n",
       "2           RELIANCE\n",
       "3           RELIANCE\n",
       "4           RELIANCE\n",
       "              ...   \n",
       "17          RELIANCE\n",
       "18          RELIANCE\n",
       "19          RELIANCE\n",
       "20          RELIANCE\n",
       "RELIANCE         NaN\n",
       "Name: RELIANCE, Length: 22, dtype: object"
      ]
     },
     "execution_count": 231,
     "metadata": {},
     "output_type": "execute_result"
    }
   ],
   "source": [
    "# we cannot apply a function over the method loc() like this\n",
    "# it is not supposed to work\n",
    "# we can use some other functions like apply , apply map, map , replace .\n",
    "df.loc[:,'RELIANCE'].str.upper()"
   ]
  },
  {
   "cell_type": "code",
   "execution_count": 252,
   "id": "ec374855",
   "metadata": {},
   "outputs": [
    {
     "data": {
      "text/plain": [
       "0           8\n",
       "1           4\n",
       "2           8\n",
       "3           8\n",
       "4           8\n",
       "           ..\n",
       "17          8\n",
       "18          8\n",
       "19          8\n",
       "20          8\n",
       "RELIANCE    3\n",
       "Name: RELIANCE, Length: 22, dtype: int64"
      ]
     },
     "execution_count": 252,
     "metadata": {},
     "output_type": "execute_result"
    }
   ],
   "source": [
    "# apply\n",
    "df.dropna(axis = 'index')\n",
    "df.loc[:,'RELIANCE'].astype(str).apply(len)"
   ]
  },
  {
   "cell_type": "code",
   "execution_count": 254,
   "id": "9b597554",
   "metadata": {},
   "outputs": [
    {
     "data": {
      "text/plain": [
       "Dates                     22\n",
       "RELIANCE                  22\n",
       "Series                    22\n",
       "PC                        22\n",
       "OP                        22\n",
       "                          ..\n",
       "No. of Trades             22\n",
       "DQ                        22\n",
       "% Dly Qt to Traded Qty    22\n",
       "1                         22\n",
       "(RELIANCE, 1)             22\n",
       "Length: 17, dtype: int64"
      ]
     },
     "execution_count": 254,
     "metadata": {},
     "output_type": "execute_result"
    }
   ],
   "source": [
    "# problem with apply\n",
    "df.apply(len)\n",
    "# it returned no. of rows in each column"
   ]
  },
  {
   "cell_type": "code",
   "execution_count": 258,
   "id": "ade3ac6c",
   "metadata": {},
   "outputs": [
    {
     "name": "stdout",
     "output_type": "stream",
     "text": [
      "          Dates  RELIANCE  Series  PC  OP  HP  LP  Last Price  CP  AP  TTQ  \\\n",
      "0            11         8       2   7   6   6   6           6   6   7    9   \n",
      "1            11         4       2   7   6   6   6           6   6   7    9   \n",
      "2            11         8       2   6   6   6   7           6   6   7    9   \n",
      "3            11         8       2   6   6   6   6           6   6   7    9   \n",
      "4            11         8       2   6   6   6   7           7   6   7    9   \n",
      "...         ...       ...     ...  ..  ..  ..  ..         ...  ..  ..  ...   \n",
      "17           11         8       2   7   6   6   6           6   7   7    9   \n",
      "18           11         8       2   7   7   7   7           6   7   7    9   \n",
      "19           11         8       2   7   6   6   6           6   7   7    9   \n",
      "20           11         8       2   7   7   6   6           6   6   7    9   \n",
      "RELIANCE      3         3       3   3   3   3   3           3   3   3    3   \n",
      "\n",
      "          Turnover  No. of Trades  DQ  % Dly Qt to Traded Qty  1  \\\n",
      "0               14              8   9                       5  3   \n",
      "1               14              8   9                       5  3   \n",
      "2               13              8   9                       5  3   \n",
      "3               14              8   9                       5  3   \n",
      "4               13              8   9                       5  3   \n",
      "...            ...            ...  ..                     ... ..   \n",
      "17              13              8   9                       5  3   \n",
      "18              14              8   9                       5  3   \n",
      "19              13              8   9                       5  3   \n",
      "20              13              8   9                       4  3   \n",
      "RELIANCE         3              3   3                       3  8   \n",
      "\n",
      "          (RELIANCE, 1)  \n",
      "0                     4  \n",
      "1                     4  \n",
      "2                     4  \n",
      "3                     4  \n",
      "4                     4  \n",
      "...                 ...  \n",
      "17                    4  \n",
      "18                    4  \n",
      "19                    4  \n",
      "20                    4  \n",
      "RELIANCE              4  \n",
      "\n",
      "[22 rows x 17 columns]\n"
     ]
    }
   ],
   "source": [
    "# applymap\n",
    "print(df.astype(str).applymap(len))"
   ]
  },
  {
   "cell_type": "code",
   "execution_count": 260,
   "id": "28fa8f89",
   "metadata": {},
   "outputs": [
    {
     "data": {
      "text/plain": [
       "0           TATA\n",
       "1            NaN\n",
       "2           TATA\n",
       "3           TATA\n",
       "4           TATA\n",
       "            ... \n",
       "17          TATA\n",
       "18          TATA\n",
       "19          TATA\n",
       "20          TATA\n",
       "RELIANCE     NaN\n",
       "Name: RELIANCE, Length: 22, dtype: object"
      ]
     },
     "execution_count": 260,
     "metadata": {},
     "output_type": "execute_result"
    }
   ],
   "source": [
    "# map\n",
    "# used to change some values\n",
    "# the values that are not changed will be set to NaN\n",
    "df['RELIANCE'].map({'RELIANCE':'TATA'})"
   ]
  },
  {
   "cell_type": "code",
   "execution_count": 264,
   "id": "f0d7832f",
   "metadata": {},
   "outputs": [
    {
     "data": {
      "text/plain": [
       "0           TATA\n",
       "1           Tata\n",
       "2           TATA\n",
       "3           TATA\n",
       "4           TATA\n",
       "            ... \n",
       "17          TATA\n",
       "18          TATA\n",
       "19          TATA\n",
       "20          TATA\n",
       "RELIANCE     NaN\n",
       "Name: RELIANCE, Length: 22, dtype: object"
      ]
     },
     "execution_count": 264,
     "metadata": {},
     "output_type": "execute_result"
    }
   ],
   "source": [
    "# replace\n",
    "# Consider the scenario that i dont want to change the non assigned values , here we can use replace\n",
    "df['RELIANCE'].replace({'RELIANCE':'TATA'})"
   ]
  },
  {
   "cell_type": "markdown",
   "id": "7483b650",
   "metadata": {},
   "source": [
    "### Add / Remove Rows and Columns"
   ]
  },
  {
   "cell_type": "code",
   "execution_count": 272,
   "id": "a8b36c33",
   "metadata": {},
   "outputs": [
    {
     "data": {
      "text/plain": [
       "0    ashitaskani\n",
       "1       askinuke\n",
       "2     huskyswart\n",
       "3     messilenon\n",
       "4         peleno\n",
       "5    ronoldochri\n",
       "6    kabibnurmog\n",
       "dtype: object"
      ]
     },
     "execution_count": 272,
     "metadata": {},
     "output_type": "execute_result"
    }
   ],
   "source": [
    "# combine two columnns\n",
    "df1['first']+df1['last']"
   ]
  },
  {
   "cell_type": "code",
   "execution_count": 276,
   "id": "2f04d19e",
   "metadata": {},
   "outputs": [
    {
     "name": "stdout",
     "output_type": "stream",
     "text": [
      "     first     last  age    Full Name\n",
      "0     ashi  taskani   21  ashitaskani\n",
      "1     aski     nuke   23     askinuke\n",
      "2    husky    swart   50   huskyswart\n",
      "3    messi    lenon   45   messilenon\n",
      "4     pele       no   75       peleno\n",
      "5  ronoldo     chri   47  ronoldochri\n",
      "6    kabib   nurmog   35  kabibnurmog\n"
     ]
    }
   ],
   "source": [
    "# creating a new column and storing the series first and last\n",
    "df1['Full Name'] = df1['first'] + df1['last']\n",
    "print(df1)"
   ]
  },
  {
   "cell_type": "code",
   "execution_count": 287,
   "id": "c2dee2c0",
   "metadata": {},
   "outputs": [
    {
     "data": {
      "text/html": [
       "<div>\n",
       "<style scoped>\n",
       "    .dataframe tbody tr th:only-of-type {\n",
       "        vertical-align: middle;\n",
       "    }\n",
       "\n",
       "    .dataframe tbody tr th {\n",
       "        vertical-align: top;\n",
       "    }\n",
       "\n",
       "    .dataframe thead th {\n",
       "        text-align: right;\n",
       "    }\n",
       "</style>\n",
       "<table border=\"1\" class=\"dataframe\">\n",
       "  <thead>\n",
       "    <tr style=\"text-align: right;\">\n",
       "      <th></th>\n",
       "      <th>age</th>\n",
       "      <th>Full Name</th>\n",
       "    </tr>\n",
       "  </thead>\n",
       "  <tbody>\n",
       "    <tr>\n",
       "      <th>0</th>\n",
       "      <td>21</td>\n",
       "      <td>ashitaskani</td>\n",
       "    </tr>\n",
       "    <tr>\n",
       "      <th>1</th>\n",
       "      <td>23</td>\n",
       "      <td>askinuke</td>\n",
       "    </tr>\n",
       "    <tr>\n",
       "      <th>2</th>\n",
       "      <td>50</td>\n",
       "      <td>huskyswart</td>\n",
       "    </tr>\n",
       "    <tr>\n",
       "      <th>3</th>\n",
       "      <td>45</td>\n",
       "      <td>messilenon</td>\n",
       "    </tr>\n",
       "    <tr>\n",
       "      <th>4</th>\n",
       "      <td>75</td>\n",
       "      <td>peleno</td>\n",
       "    </tr>\n",
       "    <tr>\n",
       "      <th>5</th>\n",
       "      <td>47</td>\n",
       "      <td>ronoldochri</td>\n",
       "    </tr>\n",
       "    <tr>\n",
       "      <th>6</th>\n",
       "      <td>35</td>\n",
       "      <td>kabibnurmog</td>\n",
       "    </tr>\n",
       "  </tbody>\n",
       "</table>\n",
       "</div>"
      ],
      "text/plain": [
       "   age    Full Name\n",
       "0   21  ashitaskani\n",
       "1   23     askinuke\n",
       "2   50   huskyswart\n",
       "3   45   messilenon\n",
       "4   75       peleno\n",
       "5   47  ronoldochri\n",
       "6   35  kabibnurmog"
      ]
     },
     "execution_count": 287,
     "metadata": {},
     "output_type": "execute_result"
    }
   ],
   "source": [
    "# lets remove first and last columns\n",
    "df1.drop(columns=['first','last'])"
   ]
  },
  {
   "cell_type": "code",
   "execution_count": 286,
   "id": "7d219ad6",
   "metadata": {},
   "outputs": [
    {
     "name": "stderr",
     "output_type": "stream",
     "text": [
      "C:\\Users\\rahma\\AppData\\Local\\Temp/ipykernel_5660/3539832039.py:2: FutureWarning: The frame.append method is deprecated and will be removed from pandas in a future version. Use pandas.concat instead.\n",
      "  df1.append({'age':34,'Full Name':'noname'},ignore_index= True)\n"
     ]
    },
    {
     "data": {
      "text/html": [
       "<div>\n",
       "<style scoped>\n",
       "    .dataframe tbody tr th:only-of-type {\n",
       "        vertical-align: middle;\n",
       "    }\n",
       "\n",
       "    .dataframe tbody tr th {\n",
       "        vertical-align: top;\n",
       "    }\n",
       "\n",
       "    .dataframe thead th {\n",
       "        text-align: right;\n",
       "    }\n",
       "</style>\n",
       "<table border=\"1\" class=\"dataframe\">\n",
       "  <thead>\n",
       "    <tr style=\"text-align: right;\">\n",
       "      <th></th>\n",
       "      <th>first</th>\n",
       "      <th>last</th>\n",
       "      <th>age</th>\n",
       "      <th>Full Name</th>\n",
       "    </tr>\n",
       "  </thead>\n",
       "  <tbody>\n",
       "    <tr>\n",
       "      <th>0</th>\n",
       "      <td>ashi</td>\n",
       "      <td>taskani</td>\n",
       "      <td>21</td>\n",
       "      <td>ashitaskani</td>\n",
       "    </tr>\n",
       "    <tr>\n",
       "      <th>1</th>\n",
       "      <td>aski</td>\n",
       "      <td>nuke</td>\n",
       "      <td>23</td>\n",
       "      <td>askinuke</td>\n",
       "    </tr>\n",
       "    <tr>\n",
       "      <th>2</th>\n",
       "      <td>husky</td>\n",
       "      <td>swart</td>\n",
       "      <td>50</td>\n",
       "      <td>huskyswart</td>\n",
       "    </tr>\n",
       "    <tr>\n",
       "      <th>3</th>\n",
       "      <td>messi</td>\n",
       "      <td>lenon</td>\n",
       "      <td>45</td>\n",
       "      <td>messilenon</td>\n",
       "    </tr>\n",
       "    <tr>\n",
       "      <th>4</th>\n",
       "      <td>pele</td>\n",
       "      <td>no</td>\n",
       "      <td>75</td>\n",
       "      <td>peleno</td>\n",
       "    </tr>\n",
       "    <tr>\n",
       "      <th>5</th>\n",
       "      <td>ronoldo</td>\n",
       "      <td>chri</td>\n",
       "      <td>47</td>\n",
       "      <td>ronoldochri</td>\n",
       "    </tr>\n",
       "    <tr>\n",
       "      <th>6</th>\n",
       "      <td>kabib</td>\n",
       "      <td>nurmog</td>\n",
       "      <td>35</td>\n",
       "      <td>kabibnurmog</td>\n",
       "    </tr>\n",
       "    <tr>\n",
       "      <th>7</th>\n",
       "      <td>NaN</td>\n",
       "      <td>NaN</td>\n",
       "      <td>34</td>\n",
       "      <td>noname</td>\n",
       "    </tr>\n",
       "  </tbody>\n",
       "</table>\n",
       "</div>"
      ],
      "text/plain": [
       "     first     last  age    Full Name\n",
       "0     ashi  taskani   21  ashitaskani\n",
       "1     aski     nuke   23     askinuke\n",
       "2    husky    swart   50   huskyswart\n",
       "3    messi    lenon   45   messilenon\n",
       "4     pele       no   75       peleno\n",
       "5  ronoldo     chri   47  ronoldochri\n",
       "6    kabib   nurmog   35  kabibnurmog\n",
       "7      NaN      NaN   34       noname"
      ]
     },
     "execution_count": 286,
     "metadata": {},
     "output_type": "execute_result"
    }
   ],
   "source": [
    "# lets add a new row \n",
    "df1.append({'age':34,'Full Name':'noname'},ignore_index= True)"
   ]
  },
  {
   "cell_type": "code",
   "execution_count": 292,
   "id": "c7fb8a45",
   "metadata": {},
   "outputs": [
    {
     "ename": "TypeError",
     "evalue": "cannot concatenate object of type '<class 'dict'>'; only Series and DataFrame objs are valid",
     "output_type": "error",
     "traceback": [
      "\u001b[1;31m---------------------------------------------------------------------------\u001b[0m",
      "\u001b[1;31mTypeError\u001b[0m                                 Traceback (most recent call last)",
      "\u001b[1;32m~\\AppData\\Local\\Temp/ipykernel_5660/1200872498.py\u001b[0m in \u001b[0;36m<module>\u001b[1;34m\u001b[0m\n\u001b[1;32m----> 1\u001b[1;33m \u001b[0mpd\u001b[0m\u001b[1;33m.\u001b[0m\u001b[0mconcat\u001b[0m\u001b[1;33m(\u001b[0m\u001b[1;33m[\u001b[0m\u001b[1;33m{\u001b[0m\u001b[1;34m'age'\u001b[0m\u001b[1;33m:\u001b[0m\u001b[1;36m34\u001b[0m\u001b[1;33m,\u001b[0m\u001b[1;34m'Full Name'\u001b[0m\u001b[1;33m:\u001b[0m\u001b[1;34m'nn'\u001b[0m\u001b[1;33m}\u001b[0m\u001b[1;33m,\u001b[0m\u001b[1;34m'df1'\u001b[0m\u001b[1;33m]\u001b[0m\u001b[1;33m)\u001b[0m\u001b[1;33m\u001b[0m\u001b[1;33m\u001b[0m\u001b[0m\n\u001b[0m",
      "\u001b[1;32m~\\anaconda3\\lib\\site-packages\\pandas\\util\\_decorators.py\u001b[0m in \u001b[0;36mwrapper\u001b[1;34m(*args, **kwargs)\u001b[0m\n\u001b[0;32m    309\u001b[0m                     \u001b[0mstacklevel\u001b[0m\u001b[1;33m=\u001b[0m\u001b[0mstacklevel\u001b[0m\u001b[1;33m,\u001b[0m\u001b[1;33m\u001b[0m\u001b[1;33m\u001b[0m\u001b[0m\n\u001b[0;32m    310\u001b[0m                 )\n\u001b[1;32m--> 311\u001b[1;33m             \u001b[1;32mreturn\u001b[0m \u001b[0mfunc\u001b[0m\u001b[1;33m(\u001b[0m\u001b[1;33m*\u001b[0m\u001b[0margs\u001b[0m\u001b[1;33m,\u001b[0m \u001b[1;33m**\u001b[0m\u001b[0mkwargs\u001b[0m\u001b[1;33m)\u001b[0m\u001b[1;33m\u001b[0m\u001b[1;33m\u001b[0m\u001b[0m\n\u001b[0m\u001b[0;32m    312\u001b[0m \u001b[1;33m\u001b[0m\u001b[0m\n\u001b[0;32m    313\u001b[0m         \u001b[1;32mreturn\u001b[0m \u001b[0mwrapper\u001b[0m\u001b[1;33m\u001b[0m\u001b[1;33m\u001b[0m\u001b[0m\n",
      "\u001b[1;32m~\\anaconda3\\lib\\site-packages\\pandas\\core\\reshape\\concat.py\u001b[0m in \u001b[0;36mconcat\u001b[1;34m(objs, axis, join, ignore_index, keys, levels, names, verify_integrity, sort, copy)\u001b[0m\n\u001b[0;32m    345\u001b[0m     \u001b[0mValueError\u001b[0m\u001b[1;33m:\u001b[0m \u001b[0mIndexes\u001b[0m \u001b[0mhave\u001b[0m \u001b[0moverlapping\u001b[0m \u001b[0mvalues\u001b[0m\u001b[1;33m:\u001b[0m \u001b[1;33m[\u001b[0m\u001b[1;34m'a'\u001b[0m\u001b[1;33m]\u001b[0m\u001b[1;33m\u001b[0m\u001b[1;33m\u001b[0m\u001b[0m\n\u001b[0;32m    346\u001b[0m     \"\"\"\n\u001b[1;32m--> 347\u001b[1;33m     op = _Concatenator(\n\u001b[0m\u001b[0;32m    348\u001b[0m         \u001b[0mobjs\u001b[0m\u001b[1;33m,\u001b[0m\u001b[1;33m\u001b[0m\u001b[1;33m\u001b[0m\u001b[0m\n\u001b[0;32m    349\u001b[0m         \u001b[0maxis\u001b[0m\u001b[1;33m=\u001b[0m\u001b[0maxis\u001b[0m\u001b[1;33m,\u001b[0m\u001b[1;33m\u001b[0m\u001b[1;33m\u001b[0m\u001b[0m\n",
      "\u001b[1;32m~\\anaconda3\\lib\\site-packages\\pandas\\core\\reshape\\concat.py\u001b[0m in \u001b[0;36m__init__\u001b[1;34m(self, objs, axis, join, keys, levels, names, ignore_index, verify_integrity, copy, sort)\u001b[0m\n\u001b[0;32m    435\u001b[0m                     \u001b[1;34m\"only Series and DataFrame objs are valid\"\u001b[0m\u001b[1;33m\u001b[0m\u001b[1;33m\u001b[0m\u001b[0m\n\u001b[0;32m    436\u001b[0m                 )\n\u001b[1;32m--> 437\u001b[1;33m                 \u001b[1;32mraise\u001b[0m \u001b[0mTypeError\u001b[0m\u001b[1;33m(\u001b[0m\u001b[0mmsg\u001b[0m\u001b[1;33m)\u001b[0m\u001b[1;33m\u001b[0m\u001b[1;33m\u001b[0m\u001b[0m\n\u001b[0m\u001b[0;32m    438\u001b[0m \u001b[1;33m\u001b[0m\u001b[0m\n\u001b[0;32m    439\u001b[0m             \u001b[0mndims\u001b[0m\u001b[1;33m.\u001b[0m\u001b[0madd\u001b[0m\u001b[1;33m(\u001b[0m\u001b[0mobj\u001b[0m\u001b[1;33m.\u001b[0m\u001b[0mndim\u001b[0m\u001b[1;33m)\u001b[0m\u001b[1;33m\u001b[0m\u001b[1;33m\u001b[0m\u001b[0m\n",
      "\u001b[1;31mTypeError\u001b[0m: cannot concatenate object of type '<class 'dict'>'; only Series and DataFrame objs are valid"
     ]
    }
   ],
   "source": [
    "pd.concat([{'age':34,'Full Name':'nn'},'df1'])"
   ]
  }
 ],
 "metadata": {
  "kernelspec": {
   "display_name": "Python 3 (ipykernel)",
   "language": "python",
   "name": "python3"
  },
  "language_info": {
   "codemirror_mode": {
    "name": "ipython",
    "version": 3
   },
   "file_extension": ".py",
   "mimetype": "text/x-python",
   "name": "python",
   "nbconvert_exporter": "python",
   "pygments_lexer": "ipython3",
   "version": "3.9.7"
  }
 },
 "nbformat": 4,
 "nbformat_minor": 5
}
