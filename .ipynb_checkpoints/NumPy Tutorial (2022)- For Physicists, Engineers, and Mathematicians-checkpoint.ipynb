{
 "cells": [
  {
   "cell_type": "code",
   "execution_count": 1,
   "id": "fff83347",
   "metadata": {},
   "outputs": [],
   "source": [
    "import numpy as np\n",
    "import matplotlib.pyplot as plt"
   ]
  },
  {
   "cell_type": "markdown",
   "id": "20b069c4",
   "metadata": {},
   "source": [
    "### Creating arrays"
   ]
  },
  {
   "cell_type": "code",
   "execution_count": 2,
   "id": "6da97006",
   "metadata": {},
   "outputs": [
    {
     "data": {
      "text/plain": [
       "array([1, 2, 3])"
      ]
     },
     "execution_count": 2,
     "metadata": {},
     "output_type": "execute_result"
    }
   ],
   "source": [
    "a1 = np.array([1,2,3])\n",
    "a1"
   ]
  },
  {
   "cell_type": "code",
   "execution_count": 3,
   "id": "2754f537",
   "metadata": {},
   "outputs": [
    {
     "data": {
      "text/plain": [
       "array([[0.94826428, 0.38433877, 0.91311063],\n",
       "       [0.97570711, 0.56272231, 0.89632429]])"
      ]
     },
     "execution_count": 3,
     "metadata": {},
     "output_type": "execute_result"
    }
   ],
   "source": [
    "a2 = np.random.random((2,3))\n",
    "a2"
   ]
  },
  {
   "cell_type": "code",
   "execution_count": 4,
   "id": "89e69924",
   "metadata": {},
   "outputs": [
    {
     "data": {
      "text/plain": [
       "array([[-2.40960869,  0.62761866,  0.31391583],\n",
       "       [-1.7606892 , -0.36195893,  1.51106479],\n",
       "       [ 0.29790771, -1.08348908,  0.19186814]])"
      ]
     },
     "execution_count": 4,
     "metadata": {},
     "output_type": "execute_result"
    }
   ],
   "source": [
    "a3 = np.random.randn(3,3)\n",
    "a3"
   ]
  },
  {
   "cell_type": "code",
   "execution_count": 5,
   "id": "b4501a0a",
   "metadata": {},
   "outputs": [
    {
     "data": {
      "text/plain": [
       "array([8, 2, 3, 5, 4, 8, 3, 5, 1, 7])"
      ]
     },
     "execution_count": 5,
     "metadata": {},
     "output_type": "execute_result"
    }
   ],
   "source": [
    "a4 = np.random.randint(0,10,10)\n",
    "a4\n"
   ]
  },
  {
   "cell_type": "code",
   "execution_count": 6,
   "id": "d0f7b1a2",
   "metadata": {},
   "outputs": [
    {
     "data": {
      "text/plain": [
       "array([ 0.        ,  0.1010101 ,  0.2020202 ,  0.3030303 ,  0.4040404 ,\n",
       "        0.50505051,  0.60606061,  0.70707071,  0.80808081,  0.90909091,\n",
       "        1.01010101,  1.11111111,  1.21212121,  1.31313131,  1.41414141,\n",
       "        1.51515152,  1.61616162,  1.71717172,  1.81818182,  1.91919192,\n",
       "        2.02020202,  2.12121212,  2.22222222,  2.32323232,  2.42424242,\n",
       "        2.52525253,  2.62626263,  2.72727273,  2.82828283,  2.92929293,\n",
       "        3.03030303,  3.13131313,  3.23232323,  3.33333333,  3.43434343,\n",
       "        3.53535354,  3.63636364,  3.73737374,  3.83838384,  3.93939394,\n",
       "        4.04040404,  4.14141414,  4.24242424,  4.34343434,  4.44444444,\n",
       "        4.54545455,  4.64646465,  4.74747475,  4.84848485,  4.94949495,\n",
       "        5.05050505,  5.15151515,  5.25252525,  5.35353535,  5.45454545,\n",
       "        5.55555556,  5.65656566,  5.75757576,  5.85858586,  5.95959596,\n",
       "        6.06060606,  6.16161616,  6.26262626,  6.36363636,  6.46464646,\n",
       "        6.56565657,  6.66666667,  6.76767677,  6.86868687,  6.96969697,\n",
       "        7.07070707,  7.17171717,  7.27272727,  7.37373737,  7.47474747,\n",
       "        7.57575758,  7.67676768,  7.77777778,  7.87878788,  7.97979798,\n",
       "        8.08080808,  8.18181818,  8.28282828,  8.38383838,  8.48484848,\n",
       "        8.58585859,  8.68686869,  8.78787879,  8.88888889,  8.98989899,\n",
       "        9.09090909,  9.19191919,  9.29292929,  9.39393939,  9.49494949,\n",
       "        9.5959596 ,  9.6969697 ,  9.7979798 ,  9.8989899 , 10.        ])"
      ]
     },
     "execution_count": 6,
     "metadata": {},
     "output_type": "execute_result"
    }
   ],
   "source": [
    "a5 = np.linspace(0,10,100)\n",
    "a5"
   ]
  },
  {
   "cell_type": "code",
   "execution_count": 7,
   "id": "b57131ab",
   "metadata": {},
   "outputs": [
    {
     "data": {
      "text/plain": [
       "array([0. , 0.2, 0.4, 0.6, 0.8, 1. , 1.2, 1.4, 1.6, 1.8, 2. , 2.2, 2.4,\n",
       "       2.6, 2.8, 3. , 3.2, 3.4, 3.6, 3.8, 4. , 4.2, 4.4, 4.6, 4.8, 5. ,\n",
       "       5.2, 5.4, 5.6, 5.8, 6. , 6.2, 6.4, 6.6, 6.8, 7. , 7.2, 7.4, 7.6,\n",
       "       7.8, 8. , 8.2, 8.4, 8.6, 8.8, 9. , 9.2, 9.4, 9.6, 9.8])"
      ]
     },
     "execution_count": 7,
     "metadata": {},
     "output_type": "execute_result"
    }
   ],
   "source": [
    "a6 = np.arange(0,10,0.2)\n",
    "a6"
   ]
  },
  {
   "cell_type": "markdown",
   "id": "e40de867",
   "metadata": {},
   "source": [
    "### Example\n",
    "Let $y=\\exp^{-x/10}\\sin{x}$ .\n",
    "Consider 100000x intervals in the range[0,10],\n",
    "    \n",
    "    a) plot the function y vs x in the range[0,10]\n",
    "    b) Compute the mean and standard deviation of y for x values in [4,7]\n",
    "    c) for x in the range[4,7], find the value $y_m$ such that 80% of y values are less than $ y_m$\n",
    "    d) plot dy/dx vs x\n",
    "    e) find the location where dy/dx = 0"
   ]
  },
  {
   "cell_type": "code",
   "execution_count": 8,
   "id": "4fdfcae6",
   "metadata": {},
   "outputs": [
    {
     "data": {
      "image/png": "[encoded data removed]",
      "text/plain": [
       "<Figure size 432x288 with 1 Axes>"
      ]
     },
     "metadata": {
      "needs_background": "light"
     },
     "output_type": "display_data"
    }
   ],
   "source": [
    "#1\n",
    "# initialising variables\n",
    "# it is a good practice to store values in variables\n",
    "N = 100000\n",
    "# for 100000 intervals , we need 100000+1 points\n",
    "x = np.linspace(0,10,N+1)\n",
    "y = np.exp(x/10)*np.sin(-x)\n",
    "# ploting the function y vs x in the range[0,10]\n",
    "plt.plot(x,y);"
   ]
  },
  {
   "cell_type": "code",
   "execution_count": 9,
   "id": "16373c25",
   "metadata": {},
   "outputs": [
    {
     "name": "stdout",
     "output_type": "stream",
     "text": [
      "0.5000049999500005\n"
     ]
    },
    {
     "data": {
      "text/plain": [
       "0.4582562601896455"
      ]
     },
     "execution_count": 9,
     "metadata": {},
     "output_type": "execute_result"
    }
   ],
   "source": [
    "#2\n",
    "# computing mean and standard deviation of y for x values in [4,7]\n",
    "# x values in between [4,7]\n",
    "a = x[(x>=5)*(x<=7)]\n",
    "print(np.mean(x>=5))\n",
    "np.std(x<=7)"
   ]
  },
  {
   "cell_type": "code",
   "execution_count": 10,
   "id": "bbefe096",
   "metadata": {},
   "outputs": [
    {
     "data": {
      "text/plain": [
       "6.6000000000000005"
      ]
     },
     "execution_count": 10,
     "metadata": {},
     "output_type": "execute_result"
    }
   ],
   "source": [
    "#3\n",
    "np.percentile(a,80)"
   ]
  },
  {
   "cell_type": "code",
   "execution_count": 11,
   "id": "3f113cbf",
   "metadata": {},
   "outputs": [
    {
     "data": {
      "image/png": "[encoded data removed]",
      "text/plain": [
       "<Figure size 432x288 with 1 Axes>"
      ]
     },
     "metadata": {
      "needs_background": "light"
     },
     "output_type": "display_data"
    }
   ],
   "source": [
    "#4\n",
    "dydx = np.gradient(y,x)\n",
    "plt.plot(x,dydx);"
   ]
  },
  {
   "cell_type": "code",
   "execution_count": 12,
   "id": "8052e818",
   "metadata": {},
   "outputs": [
    {
     "data": {
      "text/plain": [
       "array([1.6705, 4.8121, 7.9537])"
      ]
     },
     "execution_count": 12,
     "metadata": {},
     "output_type": "execute_result"
    }
   ],
   "source": [
    "#5\n",
    "x[1:][dydx[1:] * dydx[:-1]<0]\n"
   ]
  },
  {
   "cell_type": "markdown",
   "id": "ca434f19",
   "metadata": {},
   "source": [
    "### Example 2\n",
    "Sum together every number from 0 to 10000 except for those that can be divided by 4 or 7. Do this in one line of code."
   ]
  },
  {
   "cell_type": "code",
   "execution_count": 13,
   "id": "3effd860",
   "metadata": {},
   "outputs": [
    {
     "data": {
      "text/plain": [
       "32147142"
      ]
     },
     "execution_count": 13,
     "metadata": {},
     "output_type": "execute_result"
    }
   ],
   "source": [
    "# good practice is to specify the storing the values\n",
    "num = np.arange(0,10000,1)\n",
    "np.sum(num[(num%4 !=0) * (num%7 !=0)])\n"
   ]
  },
  {
   "cell_type": "markdown",
   "id": "e2ae1cce",
   "metadata": {},
   "source": [
    "### Example 3\n",
    "Consider the flower petal $r(\\theta) = 1 + \\frac{3}{4}\\sin(3\\theta)$ for $0<=\\theta<= 2\\pi$\n",
    "\n",
    "   1. Make a plot of the flower (find x and y points)\n",
    "   2. Compute the area using the calculus formula  A = $\\int_{0}^{2\\pi}\\frac{1}{2}r^2d\\theta $\n",
    "   3. Compute the arclength using the calculus formula L=$\\int_{0}^{2\\pi} \\sqrt{r^2 + (\\frac{dr}{d\\theta})^2d\\theta}$"
   ]
  },
  {
   "cell_type": "code",
   "execution_count": 14,
   "id": "15810580",
   "metadata": {},
   "outputs": [
    {
     "data": {
      "image/png": "[encoded data removed]",
      "text/plain": [
       "<Figure size 432x288 with 1 Axes>"
      ]
     },
     "metadata": {
      "needs_background": "light"
     },
     "output_type": "display_data"
    }
   ],
   "source": [
    "#1\n",
    "theta = np.linspace(0,2*np.pi,1000)\n",
    "r = 1 + 3/4*np.sin(3*theta)\n",
    "# finding x and y points \n",
    "x = r * np.cos(theta)\n",
    "y = r * np.sin(theta)\n",
    "plt.plot(x,y);"
   ]
  },
  {
   "cell_type": "code",
   "execution_count": 15,
   "id": "deb2241e",
   "metadata": {},
   "outputs": [
    {
     "data": {
      "text/plain": [
       "4.028310324802908"
      ]
     },
     "execution_count": 15,
     "metadata": {},
     "output_type": "execute_result"
    }
   ],
   "source": [
    "#2\n",
    "A = 1/2 * sum(r**2)*(theta[1]-theta[0])\n",
    "A"
   ]
  },
  {
   "cell_type": "code",
   "execution_count": 16,
   "id": "916232a9",
   "metadata": {},
   "outputs": [
    {
     "data": {
      "text/plain": [
       "11.64002156901387"
      ]
     },
     "execution_count": 16,
     "metadata": {},
     "output_type": "execute_result"
    }
   ],
   "source": [
    "#3\n",
    "L =sum( np.sqrt(r**2 + np.gradient(r,theta)**2)*theta[1] - theta[0])\n",
    "L"
   ]
  },
  {
   "cell_type": "markdown",
   "id": "4d759333",
   "metadata": {},
   "source": [
    "### Example 4\n",
    "The power emitted by a blackbody is P = A$\\sigma\\epsilon T^4$. After measuring the temperature of a star you find that T(t) = $T_0 \\frac{1}{1+\\exp^{kt}}$ . Plot the total energy emitted by the star as a function of time using the fact that E(t) = $\\int_{t'=0}^{t'=t'} P(t)dt'$"
   ]
  },
  {
   "cell_type": "markdown",
   "id": "d60003ac",
   "metadata": {},
   "source": [
    "### Ans\n",
    "As there exists unknown quantities ( A, $\\sigma$ ,$\\epsilon$ )\n",
    "here we can only deal with dimensionless quantites ,\n",
    "\n",
    "but what i can do is i can define a quantity ,\n",
    "\n",
    "$\\frac{P}{A\\sigma\\epsilon}=T^4$\n",
    "\n",
    "\n",
    "( since T(t) = $T_0 (\\frac{1}{1+\\exp^{kt}}$ ) )\n",
    "\n",
    "the equation becomes , \n",
    "\n",
    "$\\frac{P}{A\\sigma\\epsilon T_{0}^4}$= $\\left(\\frac{1}{1+e^{-kt}}\\right)^4$\n",
    "\n"
   ]
  },
  {
   "cell_type": "code",
   "execution_count": 17,
   "id": "deb468c3",
   "metadata": {},
   "outputs": [
    {
     "data": {
      "image/png": "[encoded data removed]",
      "text/plain": [
       "<Figure size 432x288 with 1 Axes>"
      ]
     },
     "metadata": {
      "needs_background": "light"
     },
     "output_type": "display_data"
    }
   ],
   "source": [
    "kt = np.linspace(0,3,100)\n",
    "P = (1/ (1 + np.exp(-kt)))**4\n",
    "E = np.cumsum(P)*(kt[1]-kt[0])\n",
    "#plt.plot(kt,P)\n",
    "plt.plot(kt,E)\n",
    "plt.xlabel(r'$kt$',fontsize=15)\n",
    "plt.ylabel(r'$\\left(\\frac{k}{A \\sigma \\epsilon T_{0}^4}\\right)E(kt)$',fontsize = 15)\n",
    "plt.show()"
   ]
  },
  {
   "cell_type": "markdown",
   "id": "ee61e448",
   "metadata": {},
   "source": [
    "### Example 5\n",
    "Let $f(x,y) = e ^{-(x^2+y^2)}.\\sin(x) for -2<=x<=2 and-2<=y<=2$ ,\n",
    "\n",
    "1. Make a contour plot of $f$\n",
    "2. find the volume $|f(x,y)|$ in the specified x and y range\n",
    "3. Find the volume $|f(x,y)|$ only in the region where $\\sqrt{x^2+y^2} > 0.5$"
   ]
  },
  {
   "cell_type": "code",
   "execution_count": 18,
   "id": "ac45ef40",
   "metadata": {},
   "outputs": [
    {
     "data": {
      "image/png": "[encoded data removed]",
      "text/plain": [
       "<Figure size 432x288 with 2 Axes>"
      ]
     },
     "metadata": {
      "needs_background": "light"
     },
     "output_type": "display_data"
    }
   ],
   "source": [
    "#1\n",
    "x = np.linspace(-2,2,1000)\n",
    "y = np.linspace(-2,2,1000)\n",
    "xv,yv = np.meshgrid(x,y)\n",
    "f = np.exp(-(xv**2 +yv**2))* np.sin(xv)\n",
    "plt.contourf(x,y,f,levels = 100)\n",
    "plt.colorbar();"
   ]
  },
  {
   "cell_type": "code",
   "execution_count": 19,
   "id": "d209d184",
   "metadata": {},
   "outputs": [
    {
     "data": {
      "text/plain": [
       "92700.93306683048"
      ]
     },
     "execution_count": 19,
     "metadata": {},
     "output_type": "execute_result"
    }
   ],
   "source": [
    "#2\n",
    "np.abs(f.ravel()).sum()"
   ]
  },
  {
   "cell_type": "code",
   "execution_count": 20,
   "id": "57c85c62",
   "metadata": {},
   "outputs": [
    {
     "data": {
      "text/plain": [
       "57149.474484642065"
      ]
     },
     "execution_count": 20,
     "metadata": {},
     "output_type": "execute_result"
    }
   ],
   "source": [
    "#3\n",
    "np.abs(f[x**2+y**2>0.5**2].ravel()).sum()"
   ]
  },
  {
   "cell_type": "markdown",
   "id": "681aba45",
   "metadata": {},
   "source": [
    "### Example 6\n",
    "  After examining a circuit full of resistors, you find that the voltage at 4 specified points is given by,\n",
    "    $3V1 + 2V2 + 3V3 +10V4 = 4\n",
    "    \n",
    "    2V1 - 2V2 + 5V3 + 8V4 = 1\n",
    "    3V1 + 3V2 + 4V3 + 9V4 = 3  \n",
    "    3V1 + 4V2 - 3V3 - 7V4 = 2 $\n",
    "    Find all the voltages ?"
   ]
  },
  {
   "cell_type": "code",
   "execution_count": 21,
   "id": "6212a4dc",
   "metadata": {},
   "outputs": [
    {
     "data": {
      "text/plain": [
       "array([ 0.78378378,  0.03603604, -0.67567568,  0.36036036])"
      ]
     },
     "execution_count": 21,
     "metadata": {},
     "output_type": "execute_result"
    }
   ],
   "source": [
    "A = np.array([[3,2,3,10],[2,-2,5,8],[3,3,4,9],[3,4,-3,-7]])\n",
    "c = np.array([4,1,3,2])\n",
    "np.linalg.solve(A,c)"
   ]
  },
  {
   "cell_type": "markdown",
   "id": "7a51a167",
   "metadata": {},
   "source": [
    "### Example 7\n",
    " An electric field is given by \n",
    " $\\vec{E}(z,t) = E_{0} \\cos(z-t)$"
   ]
  }
 ],
 "metadata": {
  "kernelspec": {
   "display_name": "Python 3 (ipykernel)",
   "language": "python",
   "name": "python3"
  },
  "language_info": {
   "codemirror_mode": {
    "name": "ipython",
    "version": 3
   },
   "file_extension": ".py",
   "mimetype": "text/x-python",
   "name": "python",
   "nbconvert_exporter": "python",
   "pygments_lexer": "ipython3",
   "version": "3.8.10"
  }
 },
 "nbformat": 4,
 "nbformat_minor": 5
}
